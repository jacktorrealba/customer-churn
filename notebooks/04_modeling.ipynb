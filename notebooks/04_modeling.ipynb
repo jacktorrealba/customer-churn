{
 "cells": [
  {
   "cell_type": "markdown",
   "metadata": {},
   "source": [
    "# Customer Churn - Modeling"
   ]
  },
  {
   "cell_type": "markdown",
   "metadata": {},
   "source": [
    "## Imports"
   ]
  },
  {
   "cell_type": "code",
   "execution_count": 604,
   "metadata": {},
   "outputs": [],
   "source": [
    "# imports\n",
    "import numpy as np\n",
    "import pandas as pd\n",
    "import matplotlib.pyplot as plt\n",
    "import seaborn as sns\n",
    "from sklearn.preprocessing import StandardScaler\n",
    "from sklearn.linear_model import LogisticRegression\n",
    "from sklearn.ensemble import RandomForestClassifier\n",
    "from sklearn.model_selection import train_test_split, RandomizedSearchCV, cross_val_score, learning_curve\n",
    "from sklearn.metrics import classification_report, confusion_matrix, roc_curve, roc_auc_score\n",
    "from pprint import pprint\n"
   ]
  },
  {
   "cell_type": "markdown",
   "metadata": {},
   "source": [
    "## Read in data "
   ]
  },
  {
   "cell_type": "code",
   "execution_count": 605,
   "metadata": {},
   "outputs": [],
   "source": [
    "df = pd.read_csv('data/processed/customer_churn_fe.csv')\n",
    "#df.head()\n",
    "#df.info()"
   ]
  },
  {
   "cell_type": "code",
   "execution_count": 606,
   "metadata": {},
   "outputs": [],
   "source": [
    "# split into x and y variables\n",
    "\n",
    "# target variable - churn\n",
    "y = df['Churn']\n",
    "\n",
    "# x variables\n",
    "X = df.drop(columns='Churn')\n",
    "\n",
    "#print(\"\\nTarget variable:\")\n",
    "#print(y.head())\n",
    "\n",
    "#print(\"\\nX variables:\")\n",
    "#X.head()\n",
    "#X.info()"
   ]
  },
  {
   "cell_type": "code",
   "execution_count": 607,
   "metadata": {},
   "outputs": [
    {
     "name": "stdout",
     "output_type": "stream",
     "text": [
      "Churn\n",
      "0    5174\n",
      "1    1869\n",
      "Name: count, dtype: int64\n"
     ]
    }
   ],
   "source": [
    "# check for imbalance data in our target variable\n",
    "print(y.value_counts())"
   ]
  },
  {
   "cell_type": "markdown",
   "metadata": {},
   "source": [
    "since our target variable is imbalanced, let's try to oversample the minority to ensure our model can accurately predict"
   ]
  },
  {
   "cell_type": "code",
   "execution_count": 608,
   "metadata": {},
   "outputs": [],
   "source": [
    "from imblearn.over_sampling import SMOTE\n",
    "\n",
    "# resampling \n",
    "X_resampled, y_resampled = SMOTE().fit_resample(X, y)"
   ]
  },
  {
   "cell_type": "code",
   "execution_count": 609,
   "metadata": {},
   "outputs": [],
   "source": [
    "# split the data\n",
    "X_train, X_test, y_train, y_test = train_test_split(X_resampled,y_resampled, test_size=0.2, random_state=23)\n",
    "\n",
    "scalar = StandardScaler()\n",
    "\n",
    "X_train = scalar.fit_transform(X_train)\n",
    "X_test = scalar.fit_transform(X_test)"
   ]
  },
  {
   "cell_type": "markdown",
   "metadata": {},
   "source": [
    "## Logistic Regression"
   ]
  },
  {
   "cell_type": "markdown",
   "metadata": {},
   "source": [
    "First, we will a baseline model - the logistic regression to get a fundamental understanding of our data and how well our a baseline model performs with it."
   ]
  },
  {
   "cell_type": "markdown",
   "metadata": {},
   "source": [
    "### Fit model"
   ]
  },
  {
   "cell_type": "code",
   "execution_count": 610,
   "metadata": {},
   "outputs": [],
   "source": [
    "# instantiate the model\n",
    "log_model = LogisticRegression(random_state=23)\n",
    "log_model.fit(X_train,y_train)\n",
    "y_pred = log_model.predict(X_test)\n"
   ]
  },
  {
   "cell_type": "markdown",
   "metadata": {},
   "source": [
    "### Confusion Matrix"
   ]
  },
  {
   "cell_type": "code",
   "execution_count": 611,
   "metadata": {},
   "outputs": [
    {
     "name": "stdout",
     "output_type": "stream",
     "text": [
      "[[853 184]\n",
      " [159 874]]\n"
     ]
    }
   ],
   "source": [
    "# confusion matrix\n",
    "cnf_matrix = confusion_matrix(y_test, y_pred)\n",
    "print(cnf_matrix)"
   ]
  },
  {
   "cell_type": "code",
   "execution_count": 612,
   "metadata": {},
   "outputs": [
    {
     "data": {
      "text/plain": [
       "Text(50.722222222222214, 0.5, 'Actual label')"
      ]
     },
     "execution_count": 612,
     "metadata": {},
     "output_type": "execute_result"
    },
    {
     "data": {
      "image/png": "[encoded data removed]",
      "text/plain": [
       "<Figure size 640x480 with 2 Axes>"
      ]
     },
     "metadata": {},
     "output_type": "display_data"
    }
   ],
   "source": [
    "# visualize confusion matrix with a heatmap\n",
    "class_names = [0,1]\n",
    "fig, ax = plt.subplots()\n",
    "tick_marks = np.arange(len(class_names))\n",
    "plt.xticks(tick_marks, class_names)\n",
    "plt.yticks(tick_marks, class_names)\n",
    "\n",
    "# heatmap\n",
    "sns.heatmap(pd.DataFrame(cnf_matrix), annot=True, cmap='coolwarm', fmt='g')\n",
    "ax.xaxis.set_label_position(\"top\")\n",
    "plt.tight_layout()\n",
    "plt.title(\"Confusion Matrix\", y=1.1)\n",
    "plt.xlabel(\"Predicted label\")\n",
    "plt.ylabel(\"Actual label\")"
   ]
  },
  {
   "cell_type": "markdown",
   "metadata": {},
   "source": [
    "### Classification Report"
   ]
  },
  {
   "cell_type": "code",
   "execution_count": 613,
   "metadata": {},
   "outputs": [
    {
     "name": "stdout",
     "output_type": "stream",
     "text": [
      "              precision    recall  f1-score   support\n",
      "\n",
      "    no churn       0.84      0.82      0.83      1037\n",
      "       churn       0.83      0.85      0.84      1033\n",
      "\n",
      "    accuracy                           0.83      2070\n",
      "   macro avg       0.83      0.83      0.83      2070\n",
      "weighted avg       0.83      0.83      0.83      2070\n",
      "\n"
     ]
    }
   ],
   "source": [
    "target_names = [\"no churn\", \"churn\"]\n",
    "print(classification_report(y_test, y_pred, target_names=target_names))"
   ]
  },
  {
   "cell_type": "markdown",
   "metadata": {},
   "source": [
    "When it comes to analyzing our model results, we want to focus on the false negatives - in this case the recall. \n",
    "The close the recall is to 1 then the better our model is at identifying true negatives.This is especially important in predicting customer churn because any false negatives is missed revenue"
   ]
  },
  {
   "cell_type": "markdown",
   "metadata": {},
   "source": [
    "### Area Under the Curve"
   ]
  },
  {
   "cell_type": "code",
   "execution_count": 614,
   "metadata": {},
   "outputs": [
    {
     "data": {
      "image/png": "[encoded data removed]",
      "text/plain": [
       "<Figure size 640x480 with 1 Axes>"
      ]
     },
     "metadata": {},
     "output_type": "display_data"
    }
   ],
   "source": [
    "y_pred_prob = log_model.predict_proba(X_test)[::,1]\n",
    "fpr, tpr, _ = roc_curve(y_test, y_pred_prob)\n",
    "auc = roc_auc_score(y_test, y_pred_prob)\n",
    "plt.plot(fpr,tpr,label=\"data 1, auc=\"+str(auc))\n",
    "plt.legend(loc=4)\n",
    "plt.show()"
   ]
  },
  {
   "cell_type": "markdown",
   "metadata": {},
   "source": [
    "## Random Forest Classifier"
   ]
  },
  {
   "cell_type": "markdown",
   "metadata": {},
   "source": [
    "### Fit model"
   ]
  },
  {
   "cell_type": "code",
   "execution_count": 615,
   "metadata": {},
   "outputs": [],
   "source": [
    "rf = RandomForestClassifier(random_state=23)\n",
    "rf.fit(X_train, y_train)\n",
    "y_pred = rf.predict(X_test)"
   ]
  },
  {
   "cell_type": "markdown",
   "metadata": {},
   "source": [
    "### Confusion Matrix"
   ]
  },
  {
   "cell_type": "code",
   "execution_count": 616,
   "metadata": {},
   "outputs": [
    {
     "name": "stdout",
     "output_type": "stream",
     "text": [
      "[[  44  993]\n",
      " [  13 1020]]\n"
     ]
    }
   ],
   "source": [
    "rf_cnf_matrix = confusion_matrix(y_test,y_pred)\n",
    "print(rf_cnf_matrix)"
   ]
  },
  {
   "cell_type": "markdown",
   "metadata": {},
   "source": [
    "### Classification Report"
   ]
  },
  {
   "cell_type": "code",
   "execution_count": 617,
   "metadata": {},
   "outputs": [
    {
     "name": "stdout",
     "output_type": "stream",
     "text": [
      "              precision    recall  f1-score   support\n",
      "\n",
      "           0       0.77      0.04      0.08      1037\n",
      "           1       0.51      0.99      0.67      1033\n",
      "\n",
      "    accuracy                           0.51      2070\n",
      "   macro avg       0.64      0.51      0.38      2070\n",
      "weighted avg       0.64      0.51      0.37      2070\n",
      "\n"
     ]
    }
   ],
   "source": [
    "cr = classification_report(y_test, y_pred)\n",
    "print(cr)"
   ]
  },
  {
   "cell_type": "markdown",
   "metadata": {},
   "source": [
    "The base Random Forest model can predict customer churn very well but lacks the accuracy in predicting true positives as we can tell from the precision score. Let's apply some hyperparameter tuning to see if this can be improved without affecting the model's recall"
   ]
  },
  {
   "cell_type": "markdown",
   "metadata": {},
   "source": [
    "### Hyperparameter Tuning"
   ]
  },
  {
   "cell_type": "markdown",
   "metadata": {},
   "source": [
    "Key Parameters:\n",
    "* n_estimators: the amount of trees in our random forest\n",
    "* max_depth: max number of levels in the trees\n",
    "* min_samples_split: min number of samples required to split a node (helps prevent overfitting)"
   ]
  },
  {
   "cell_type": "code",
   "execution_count": 618,
   "metadata": {},
   "outputs": [
    {
     "name": "stdout",
     "output_type": "stream",
     "text": [
      "\n",
      "Best parameters found:\n",
      "{'bootstrap': False,\n",
      " 'max_depth': None,\n",
      " 'max_features': 'sqrt',\n",
      " 'min_samples_leaf': 4,\n",
      " 'min_samples_split': 5,\n",
      " 'n_estimators': 800}\n",
      "\n",
      "Best cross validation score: 0.9303\n"
     ]
    }
   ],
   "source": [
    "param_grid = {\n",
    "    'n_estimators': [100, 300, 500, 800],  # Number of trees\n",
    "    'max_depth': [10, 20, None],  # Depth of trees\n",
    "    'min_samples_split': [2, 5, 10],  # Min samples for node split\n",
    "    'min_samples_leaf': [1, 2, 4],  # Min samples in leaf\n",
    "    'max_features': ['sqrt', 'log2'],  # Features per tree\n",
    "    'bootstrap': [True, False]  # Sampling method\n",
    "}\n",
    "\n",
    "rf = RandomForestClassifier(random_state=23)\n",
    "rf_random = RandomizedSearchCV(\n",
    "    rf, \n",
    "    param_grid, \n",
    "    cv=5, \n",
    "    scoring='roc_auc', \n",
    "    n_iter=50, \n",
    "    n_jobs=-1)\n",
    "\n",
    "rf_random.fit(X_train, y_train)\n",
    "\n",
    "print(\"\\nBest parameters found:\")\n",
    "pprint(rf_random.best_params_)\n",
    "print(f\"\\nBest cross validation score: {rf_random.best_score_:.4f}\")"
   ]
  },
  {
   "cell_type": "markdown",
   "metadata": {},
   "source": [
    "### Run Tuned Random Forest Model"
   ]
  },
  {
   "cell_type": "code",
   "execution_count": 619,
   "metadata": {},
   "outputs": [],
   "source": [
    "best_rf = rf_random.best_estimator_\n",
    "y_pred = best_rf.predict(X_test)"
   ]
  },
  {
   "cell_type": "markdown",
   "metadata": {},
   "source": [
    "### New Confusion Matrix"
   ]
  },
  {
   "cell_type": "code",
   "execution_count": 620,
   "metadata": {},
   "outputs": [
    {
     "data": {
      "text/plain": [
       "Text(50.722222222222214, 0.5, 'Actual label')"
      ]
     },
     "execution_count": 620,
     "metadata": {},
     "output_type": "execute_result"
    },
    {
     "data": {
      "image/png": "[encoded data removed]",
      "text/plain": [
       "<Figure size 640x480 with 2 Axes>"
      ]
     },
     "metadata": {},
     "output_type": "display_data"
    }
   ],
   "source": [
    "# confusion matrix\n",
    "conf_matrix = confusion_matrix(y_test, y_pred)\n",
    "\n",
    "# visualize confusion matrix with a heatmap\n",
    "class_names = [0,1]\n",
    "fig, ax = plt.subplots()\n",
    "tick_marks = np.arange(len(class_names))\n",
    "plt.xticks(tick_marks, class_names)\n",
    "plt.yticks(tick_marks, class_names)\n",
    "\n",
    "# heatmap\n",
    "sns.heatmap(pd.DataFrame(conf_matrix), annot=True, cmap='coolwarm', fmt='g')\n",
    "ax.xaxis.set_label_position(\"top\")\n",
    "plt.tight_layout()\n",
    "plt.title(\"Confusion Matrix\", y=1.1)\n",
    "plt.xlabel(\"Predicted label\")\n",
    "plt.ylabel(\"Actual label\")"
   ]
  },
  {
   "cell_type": "markdown",
   "metadata": {},
   "source": [
    "### New Classification Report"
   ]
  },
  {
   "cell_type": "code",
   "execution_count": 621,
   "metadata": {},
   "outputs": [
    {
     "name": "stdout",
     "output_type": "stream",
     "text": [
      "\n",
      "Classification Report:\n",
      "              precision    recall  f1-score   support\n",
      "\n",
      "           0       0.71      0.02      0.04      1037\n",
      "           1       0.50      0.99      0.67      1033\n",
      "\n",
      "    accuracy                           0.51      2070\n",
      "   macro avg       0.61      0.51      0.35      2070\n",
      "weighted avg       0.61      0.51      0.35      2070\n",
      "\n"
     ]
    }
   ],
   "source": [
    "print(\"\\nClassification Report:\")\n",
    "print(classification_report(y_test, y_pred))"
   ]
  },
  {
   "cell_type": "markdown",
   "metadata": {},
   "source": [
    "## Check for overfitting"
   ]
  },
  {
   "cell_type": "markdown",
   "metadata": {},
   "source": [
    "### Logistic Regression"
   ]
  },
  {
   "cell_type": "code",
   "execution_count": 622,
   "metadata": {},
   "outputs": [
    {
     "name": "stdout",
     "output_type": "stream",
     "text": [
      "Mean CV Accuracy: 0.849 (+/- 0.026)\n",
      "Train Accuracy: 0.8354675042280744\n",
      "Test Accuracy: 0.8342995169082126\n",
      "\n",
      "Classification Report (Train):\n",
      "               precision    recall  f1-score   support\n",
      "\n",
      "           0       0.83      0.84      0.84      4137\n",
      "           1       0.84      0.83      0.83      4141\n",
      "\n",
      "    accuracy                           0.84      8278\n",
      "   macro avg       0.84      0.84      0.84      8278\n",
      "weighted avg       0.84      0.84      0.84      8278\n",
      "\n",
      "\n",
      "Classification Report (Test):\n",
      "               precision    recall  f1-score   support\n",
      "\n",
      "           0       0.84      0.82      0.83      1037\n",
      "           1       0.83      0.85      0.84      1033\n",
      "\n",
      "    accuracy                           0.83      2070\n",
      "   macro avg       0.83      0.83      0.83      2070\n",
      "weighted avg       0.83      0.83      0.83      2070\n",
      "\n",
      "\n",
      "AUC-ROC Train: 0.9240122928085447\n",
      "AUC-ROC Test: 0.9218723307328739\n"
     ]
    }
   ],
   "source": [
    "from sklearn.metrics import accuracy_score, classification_report, roc_auc_score\n",
    "\n",
    "# Predictions on training and test sets\n",
    "y_train_pred = log_model.predict(X_train)\n",
    "y_test_pred = log_model.predict(X_test)\n",
    "\n",
    "# AUC-ROC scores\n",
    "train_auc = roc_auc_score(y_train, log_model.predict_proba(X_train)[:, 1])\n",
    "test_auc = roc_auc_score(y_test, log_model.predict_proba(X_test)[:, 1])\n",
    "cv_scores = cross_val_score(best_rf, X_train, y_train, cv=5)\n",
    "\n",
    "print(f\"Mean CV Accuracy: {cv_scores.mean():.3f} (+/- {cv_scores.std() * 2:.3f})\")\n",
    "print(\"Train Accuracy:\", accuracy_score(y_train, y_train_pred))\n",
    "print(\"Test Accuracy:\", accuracy_score(y_test, y_test_pred))\n",
    "print(\"\\nClassification Report (Train):\\n\", classification_report(y_train, y_train_pred))\n",
    "print(\"\\nClassification Report (Test):\\n\", classification_report(y_test, y_test_pred))\n",
    "print(\"\\nAUC-ROC Train:\", train_auc)\n",
    "print(\"AUC-ROC Test:\", test_auc)"
   ]
  },
  {
   "cell_type": "markdown",
   "metadata": {},
   "source": [
    "No overfitting from the Logistic Regression. \n",
    "* Overall model accuracy stayed the same between training and testing.\n",
    "* Recall increased when the model was exposed to new data which indicates the model found good patterns in the training data and was able to learn those patterns instead of memorizing them\n",
    "* AUC-ROC value is close to 1 for both the train and test sets which indicates that the model can predict the right outcome around 92% of the time"
   ]
  },
  {
   "cell_type": "markdown",
   "metadata": {},
   "source": [
    "### Random Forest"
   ]
  },
  {
   "cell_type": "code",
   "execution_count": 623,
   "metadata": {},
   "outputs": [
    {
     "name": "stdout",
     "output_type": "stream",
     "text": [
      "Mean CV Accuracy: 0.849 (+/- 0.026)\n",
      "Train Accuracy: 0.9289683498429573\n",
      "Test Accuracy: 0.5053140096618357\n",
      "\n",
      "Classification Report (Train):\n",
      "               precision    recall  f1-score   support\n",
      "\n",
      "           0       0.93      0.93      0.93      4137\n",
      "           1       0.93      0.93      0.93      4141\n",
      "\n",
      "    accuracy                           0.93      8278\n",
      "   macro avg       0.93      0.93      0.93      8278\n",
      "weighted avg       0.93      0.93      0.93      8278\n",
      "\n",
      "\n",
      "Classification Report (Test):\n",
      "               precision    recall  f1-score   support\n",
      "\n",
      "           0       0.71      0.02      0.04      1037\n",
      "           1       0.50      0.99      0.67      1033\n",
      "\n",
      "    accuracy                           0.51      2070\n",
      "   macro avg       0.61      0.51      0.35      2070\n",
      "weighted avg       0.61      0.51      0.35      2070\n",
      "\n",
      "\n",
      "AUC-ROC Train: 0.9861189306111141\n",
      "AUC-ROC Test: 0.8525112931878669\n"
     ]
    }
   ],
   "source": [
    "from sklearn.metrics import accuracy_score, classification_report, roc_auc_score\n",
    "\n",
    "# Predictions on training and test sets\n",
    "y_train_pred = best_rf.predict(X_train)\n",
    "y_test_pred = best_rf.predict(X_test)\n",
    "\n",
    "# AUC-ROC scores\n",
    "train_auc = roc_auc_score(y_train, best_rf.predict_proba(X_train)[:, 1])\n",
    "test_auc = roc_auc_score(y_test, best_rf.predict_proba(X_test)[:, 1])\n",
    "cv_scores = cross_val_score(best_rf, X_train, y_train, cv=5)\n",
    "\n",
    "print(f\"Mean CV Accuracy: {cv_scores.mean():.3f} (+/- {cv_scores.std() * 2:.3f})\")\n",
    "print(\"Train Accuracy:\", accuracy_score(y_train, y_train_pred))\n",
    "print(\"Test Accuracy:\", accuracy_score(y_test, y_test_pred))\n",
    "print(\"\\nClassification Report (Train):\\n\", classification_report(y_train, y_train_pred))\n",
    "print(\"\\nClassification Report (Test):\\n\", classification_report(y_test, y_test_pred))\n",
    "print(\"\\nAUC-ROC Train:\", train_auc)\n",
    "print(\"AUC-ROC Test:\", test_auc)"
   ]
  },
  {
   "cell_type": "markdown",
   "metadata": {},
   "source": [
    "We can see clear overfit for the Random Forest\n",
    "* Training accuracy is significantly higher than the testing accuracy which means the model just memorized the training data, thus failing to predict the correct outcomes when met with new data\n",
    "* Though the AUC-ROC values are high, the testing value is much lower than the training value, again indicating overfit"
   ]
  },
  {
   "cell_type": "markdown",
   "metadata": {},
   "source": [
    "# Final Thoughts"
   ]
  },
  {
   "cell_type": "markdown",
   "metadata": {},
   "source": [
    "Based on the classification reports and the AUC-ROC values, we were able to identify that the Logisitc Regression is the better model for prediciting customer churn in this dataset. The Random Forest performed poorly as it suffered from overfitting. This could be due to the fact that there are linear relationships between the features and the target variable which would make the simpler logistic regression outperfom the random forest since random forests thrive off of complex, non-linear data. Let's confirm if our features and target variable have a linear relationship"
   ]
  },
  {
   "cell_type": "markdown",
   "metadata": {},
   "source": [
    "### Verify Feature Relationship with Target Variable"
   ]
  },
  {
   "cell_type": "markdown",
   "metadata": {},
   "source": [
    "By checking the coefficients of our features, we can identify what features have a linear relationship with the target variable. Since we implemented SMOTE oversampling on the training set, we need to make sure that the coefficients remained intact after oversampling to ensure we didn't alter any fundamental relationships in the original data."
   ]
  },
  {
   "cell_type": "code",
   "execution_count": 624,
   "metadata": {},
   "outputs": [
    {
     "name": "stdout",
     "output_type": "stream",
     "text": [
      "\n",
      "Coefficients BEFORE oversampling the training data:\n",
      "                                    Feature  Coefficient\n",
      "29                        count_of_services     6.183588\n",
      "10                           MonthlyCharges     4.454657\n",
      "14                       InternetService_no     2.250085\n",
      "11                             TotalCharges     1.161888\n",
      "15                  Contract_month-to-month     0.317369\n",
      "27           TenureCategory_3_plus_customer     0.142979\n",
      "23                     PackageTier_high_end     0.116963\n",
      "20           PaymentMethod_electronic check     0.113331\n",
      "25                      PackageTier_premium     0.025667\n",
      "24                     PackageTier_mid_tier     0.015270\n",
      "28              TenureCategory_new_customer     0.012842\n",
      "18  PaymentMethod_bank transfer (automatic)    -0.013183\n",
      "16                        Contract_one year    -0.025194\n",
      "12                      InternetService_dsl    -0.051319\n",
      "19    PaymentMethod_credit card (automatic)    -0.057387\n",
      "21               PaymentMethod_mailed check    -0.068745\n",
      "22                        PackageTier_basic    -0.147196\n",
      "26         TenureCategory_1_to_3yr_customer    -0.169606\n",
      "17                        Contract_two year    -0.371973\n",
      "9                          PaperlessBilling    -1.206360\n",
      "13              InternetService_fiber optic    -1.635579\n",
      "2                             MultipleLines    -1.638219\n",
      "5                          DeviceProtection    -1.685894\n",
      "6                               TechSupport    -1.688419\n",
      "3                            OnlineSecurity    -1.738378\n",
      "4                              OnlineBackup    -1.767029\n",
      "0                                    tenure    -1.895887\n",
      "8                           StreamingMovies    -1.999590\n",
      "1                              PhoneService    -2.003815\n",
      "7                               StreamingTV    -2.027077\n",
      "\n",
      "Coefficients AFTER oversampling the training data:\n",
      "                                    Feature  Coefficient\n",
      "29                        count_of_services     6.183588\n",
      "10                           MonthlyCharges     4.454657\n",
      "14                       InternetService_no     2.250085\n",
      "11                             TotalCharges     1.161888\n",
      "15                  Contract_month-to-month     0.317369\n",
      "27           TenureCategory_3_plus_customer     0.142979\n",
      "23                     PackageTier_high_end     0.116963\n",
      "20           PaymentMethod_electronic check     0.113331\n",
      "25                      PackageTier_premium     0.025667\n",
      "24                     PackageTier_mid_tier     0.015270\n",
      "28              TenureCategory_new_customer     0.012842\n",
      "18  PaymentMethod_bank transfer (automatic)    -0.013183\n",
      "16                        Contract_one year    -0.025194\n",
      "12                      InternetService_dsl    -0.051319\n",
      "19    PaymentMethod_credit card (automatic)    -0.057387\n",
      "21               PaymentMethod_mailed check    -0.068745\n",
      "22                        PackageTier_basic    -0.147196\n",
      "26         TenureCategory_1_to_3yr_customer    -0.169606\n",
      "17                        Contract_two year    -0.371973\n",
      "9                          PaperlessBilling    -1.206360\n",
      "13              InternetService_fiber optic    -1.635579\n",
      "2                             MultipleLines    -1.638219\n",
      "5                          DeviceProtection    -1.685894\n",
      "6                               TechSupport    -1.688419\n",
      "3                            OnlineSecurity    -1.738378\n",
      "4                              OnlineBackup    -1.767029\n",
      "0                                    tenure    -1.895887\n",
      "8                           StreamingMovies    -1.999590\n",
      "1                              PhoneService    -2.003815\n",
      "7                               StreamingTV    -2.027077\n"
     ]
    }
   ],
   "source": [
    "coefficients = pd.DataFrame({\"Feature\": X.columns, \"Coefficient\": log_model.coef_[0]})\n",
    "coefficients = coefficients.sort_values(by=\"Coefficient\", ascending=False)\n",
    "print(\"\\nCoefficients BEFORE oversampling the training data:\")\n",
    "print(coefficients)\n",
    "\n",
    "coefficient_after_SMOTE = pd.DataFrame({\"Feature\": X_resampled.columns, \"Coefficient\": log_model.coef_[0]})\n",
    "coefficient_after_SMOTE = coefficient_after_SMOTE.sort_values(by=\"Coefficient\", ascending=False)\n",
    "print(\"\\nCoefficients AFTER oversampling the training data:\")\n",
    "print(coefficient_after_SMOTE)"
   ]
  },
  {
   "cell_type": "markdown",
   "metadata": {},
   "source": [
    "Coefficients match up which means we successfully didn't alter any relationships with the oversampling technique. We can also see from the high negative or positive coefficients that a decent amount of our features have linear relationships with the target variable"
   ]
  },
  {
   "cell_type": "markdown",
   "metadata": {},
   "source": [
    "Now that we see that select features have a linear relationship with the target variable, it makes sense why the logistic regression would perform better than the Random Forest."
   ]
  }
 ],
 "metadata": {
  "kernelspec": {
   "display_name": "venv",
   "language": "python",
   "name": "python3"
  },
  "language_info": {
   "codemirror_mode": {
    "name": "ipython",
    "version": 3
   },
   "file_extension": ".py",
   "mimetype": "text/x-python",
   "name": "python",
   "nbconvert_exporter": "python",
   "pygments_lexer": "ipython3",
   "version": "3.12.4"
  }
 },
 "nbformat": 4,
 "nbformat_minor": 2
}
