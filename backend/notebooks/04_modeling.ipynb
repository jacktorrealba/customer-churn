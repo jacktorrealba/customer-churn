{
 "cells": [
  {
   "cell_type": "markdown",
   "metadata": {},
   "source": [
    "# Customer Churn - Modeling"
   ]
  },
  {
   "cell_type": "markdown",
   "metadata": {},
   "source": [
    "## Imports"
   ]
  },
  {
   "cell_type": "code",
   "execution_count": 664,
   "metadata": {},
   "outputs": [
    {
     "name": "stdout",
     "output_type": "stream",
     "text": [
      "Requirement already satisfied: Flask in ./venv/lib/python3.12/site-packages (3.1.0)\n",
      "Requirement already satisfied: Werkzeug>=3.1 in ./venv/lib/python3.12/site-packages (from Flask) (3.1.3)\n",
      "Requirement already satisfied: Jinja2>=3.1.2 in ./venv/lib/python3.12/site-packages (from Flask) (3.1.5)\n",
      "Requirement already satisfied: itsdangerous>=2.2 in ./venv/lib/python3.12/site-packages (from Flask) (2.2.0)\n",
      "Requirement already satisfied: click>=8.1.3 in ./venv/lib/python3.12/site-packages (from Flask) (8.1.8)\n",
      "Requirement already satisfied: blinker>=1.9 in ./venv/lib/python3.12/site-packages (from Flask) (1.9.0)\n",
      "Requirement already satisfied: MarkupSafe>=2.0 in ./venv/lib/python3.12/site-packages (from Jinja2>=3.1.2->Flask) (3.0.2)\n",
      "\n",
      "\u001b[1m[\u001b[0m\u001b[34;49mnotice\u001b[0m\u001b[1;39;49m]\u001b[0m\u001b[39;49m A new release of pip is available: \u001b[0m\u001b[31;49m24.0\u001b[0m\u001b[39;49m -> \u001b[0m\u001b[32;49m25.0.1\u001b[0m\n",
      "\u001b[1m[\u001b[0m\u001b[34;49mnotice\u001b[0m\u001b[1;39;49m]\u001b[0m\u001b[39;49m To update, run: \u001b[0m\u001b[32;49mpip install --upgrade pip\u001b[0m\n",
      "Note: you may need to restart the kernel to use updated packages.\n"
     ]
    }
   ],
   "source": [
    "%pip install Flask"
   ]
  },
  {
   "cell_type": "code",
   "execution_count": 657,
   "metadata": {},
   "outputs": [],
   "source": [
    "# imports\n",
    "import numpy as np\n",
    "import pandas as pd\n",
    "import matplotlib.pyplot as plt\n",
    "import seaborn as sns\n",
    "from sklearn.preprocessing import StandardScaler\n",
    "from sklearn.linear_model import LogisticRegression\n",
    "from sklearn.ensemble import RandomForestClassifier\n",
    "from sklearn.model_selection import train_test_split, RandomizedSearchCV, cross_val_score, learning_curve\n",
    "from sklearn.metrics import classification_report, confusion_matrix, roc_curve, roc_auc_score\n",
    "from pprint import pprint\n"
   ]
  },
  {
   "cell_type": "markdown",
   "metadata": {},
   "source": [
    "## Read in data "
   ]
  },
  {
   "cell_type": "code",
   "execution_count": 658,
   "metadata": {},
   "outputs": [
    {
     "name": "stdout",
     "output_type": "stream",
     "text": [
      "<class 'pandas.core.frame.DataFrame'>\n",
      "RangeIndex: 7043 entries, 0 to 7042\n",
      "Data columns (total 31 columns):\n",
      " #   Column                                   Non-Null Count  Dtype  \n",
      "---  ------                                   --------------  -----  \n",
      " 0   tenure                                   7043 non-null   int64  \n",
      " 1   PhoneService                             7043 non-null   int64  \n",
      " 2   MultipleLines                            7043 non-null   int64  \n",
      " 3   OnlineSecurity                           7043 non-null   int64  \n",
      " 4   OnlineBackup                             7043 non-null   int64  \n",
      " 5   DeviceProtection                         7043 non-null   int64  \n",
      " 6   TechSupport                              7043 non-null   int64  \n",
      " 7   StreamingTV                              7043 non-null   int64  \n",
      " 8   StreamingMovies                          7043 non-null   int64  \n",
      " 9   PaperlessBilling                         7043 non-null   int64  \n",
      " 10  MonthlyCharges                           7043 non-null   float64\n",
      " 11  TotalCharges                             7043 non-null   float64\n",
      " 12  Churn                                    7043 non-null   int64  \n",
      " 13  InternetService_dsl                      7043 non-null   float64\n",
      " 14  InternetService_fiber optic              7043 non-null   float64\n",
      " 15  InternetService_no                       7043 non-null   float64\n",
      " 16  Contract_month-to-month                  7043 non-null   float64\n",
      " 17  Contract_one year                        7043 non-null   float64\n",
      " 18  Contract_two year                        7043 non-null   float64\n",
      " 19  PaymentMethod_bank transfer (automatic)  7043 non-null   float64\n",
      " 20  PaymentMethod_credit card (automatic)    7043 non-null   float64\n",
      " 21  PaymentMethod_electronic check           7043 non-null   float64\n",
      " 22  PaymentMethod_mailed check               7043 non-null   float64\n",
      " 23  PackageTier_basic                        7043 non-null   float64\n",
      " 24  PackageTier_high_end                     7043 non-null   float64\n",
      " 25  PackageTier_mid_tier                     7043 non-null   float64\n",
      " 26  PackageTier_premium                      7043 non-null   float64\n",
      " 27  TenureCategory_1_to_3yr_customer         7043 non-null   float64\n",
      " 28  TenureCategory_3_plus_customer           7043 non-null   float64\n",
      " 29  TenureCategory_new_customer              7043 non-null   float64\n",
      " 30  count_of_services                        7043 non-null   int64  \n",
      "dtypes: float64(19), int64(12)\n",
      "memory usage: 1.7 MB\n"
     ]
    }
   ],
   "source": [
    "df = pd.read_csv('data/processed/customer_churn_fe.csv')\n",
    "df.head()\n",
    "df.info()"
   ]
  },
  {
   "cell_type": "code",
   "execution_count": 659,
   "metadata": {},
   "outputs": [],
   "source": [
    "# split into x and y variables\n",
    "\n",
    "# target variable - churn\n",
    "y = df['Churn']\n",
    "\n",
    "# x variables\n",
    "X = df.drop(columns='Churn')\n",
    "\n",
    "#print(\"\\nTarget variable:\")\n",
    "#print(y.head())\n",
    "\n",
    "#print(\"\\nX variables:\")\n",
    "#X.head()\n",
    "#X.info()"
   ]
  },
  {
   "cell_type": "code",
   "execution_count": 660,
   "metadata": {},
   "outputs": [
    {
     "name": "stdout",
     "output_type": "stream",
     "text": [
      "Churn\n",
      "0    5174\n",
      "1    1869\n",
      "Name: count, dtype: int64\n"
     ]
    }
   ],
   "source": [
    "# check for imbalance data in our target variable\n",
    "print(y.value_counts())"
   ]
  },
  {
   "cell_type": "markdown",
   "metadata": {},
   "source": [
    "since our target variable is imbalanced, let's try to oversample the minority to ensure our model can accurately predict"
   ]
  },
  {
   "cell_type": "code",
   "execution_count": 661,
   "metadata": {},
   "outputs": [],
   "source": [
    "from imblearn.over_sampling import SMOTE\n",
    "\n",
    "# resampling \n",
    "X_resampled, y_resampled = SMOTE().fit_resample(X, y)"
   ]
  },
  {
   "cell_type": "code",
   "execution_count": 662,
   "metadata": {},
   "outputs": [],
   "source": [
    "# split the data\n",
    "X_train, X_test, y_train, y_test = train_test_split(X_resampled,y_resampled, test_size=0.2, random_state=23)\n",
    "\n",
    "scalar = StandardScaler()\n",
    "\n",
    "X_train = scalar.fit_transform(X_train)\n",
    "X_test = scalar.fit_transform(X_test)"
   ]
  },
  {
   "cell_type": "markdown",
   "metadata": {},
   "source": [
    "## Logistic Regression"
   ]
  },
  {
   "cell_type": "markdown",
   "metadata": {},
   "source": [
    "First, we will a baseline model - the logistic regression to get a fundamental understanding of our data and how well our a baseline model performs with it."
   ]
  },
  {
   "cell_type": "markdown",
   "metadata": {},
   "source": [
    "### Fit model"
   ]
  },
  {
   "cell_type": "code",
   "execution_count": 663,
   "metadata": {},
   "outputs": [
    {
     "name": "stdout",
     "output_type": "stream",
     "text": [
      "[0.00299816 0.80198635 0.00138902 ... 0.07726982 0.12285625 0.03342318]\n"
     ]
    }
   ],
   "source": [
    "# instantiate the model\n",
    "log_model = LogisticRegression(random_state=23)\n",
    "\n",
    "# fit\n",
    "log_model.fit(X_train,y_train)\n",
    "\n",
    "# predict \n",
    "y_pred = log_model.predict(X_test)\n",
    "y_proba = log_model.predict_proba(X_test)[:,1]\n"
   ]
  },
  {
   "cell_type": "markdown",
   "metadata": {},
   "source": [
    "### Confusion Matrix"
   ]
  },
  {
   "cell_type": "code",
   "execution_count": 635,
   "metadata": {},
   "outputs": [
    {
     "name": "stdout",
     "output_type": "stream",
     "text": [
      "[[844 193]\n",
      " [162 871]]\n"
     ]
    }
   ],
   "source": [
    "# confusion matrix\n",
    "cnf_matrix = confusion_matrix(y_test, y_pred)\n",
    "print(cnf_matrix)"
   ]
  },
  {
   "cell_type": "code",
   "execution_count": 636,
   "metadata": {},
   "outputs": [
    {
     "data": {
      "text/plain": [
       "Text(50.722222222222214, 0.5, 'Actual label')"
      ]
     },
     "execution_count": 636,
     "metadata": {},
     "output_type": "execute_result"
    },
    {
     "data": {
      "image/png": "[encoded data removed]",
      "text/plain": [
       "<Figure size 640x480 with 2 Axes>"
      ]
     },
     "metadata": {},
     "output_type": "display_data"
    }
   ],
   "source": [
    "# visualize confusion matrix with a heatmap\n",
    "class_names = [0,1]\n",
    "fig, ax = plt.subplots()\n",
    "tick_marks = np.arange(len(class_names))\n",
    "plt.xticks(tick_marks, class_names)\n",
    "plt.yticks(tick_marks, class_names)\n",
    "\n",
    "# heatmap\n",
    "sns.heatmap(pd.DataFrame(cnf_matrix), annot=True, cmap='coolwarm', fmt='g')\n",
    "ax.xaxis.set_label_position(\"top\")\n",
    "plt.tight_layout()\n",
    "plt.title(\"Confusion Matrix\", y=1.1)\n",
    "plt.xlabel(\"Predicted label\")\n",
    "plt.ylabel(\"Actual label\")"
   ]
  },
  {
   "cell_type": "markdown",
   "metadata": {},
   "source": [
    "### Classification Report"
   ]
  },
  {
   "cell_type": "code",
   "execution_count": 637,
   "metadata": {},
   "outputs": [
    {
     "name": "stdout",
     "output_type": "stream",
     "text": [
      "              precision    recall  f1-score   support\n",
      "\n",
      "    no churn       0.84      0.81      0.83      1037\n",
      "       churn       0.82      0.84      0.83      1033\n",
      "\n",
      "    accuracy                           0.83      2070\n",
      "   macro avg       0.83      0.83      0.83      2070\n",
      "weighted avg       0.83      0.83      0.83      2070\n",
      "\n"
     ]
    }
   ],
   "source": [
    "target_names = [\"no churn\", \"churn\"]\n",
    "print(classification_report(y_test, y_pred, target_names=target_names))"
   ]
  },
  {
   "cell_type": "markdown",
   "metadata": {},
   "source": [
    "When it comes to analyzing our model results, we want to focus on the false negatives - in this case the recall. \n",
    "The close the recall is to 1 then the better our model is at identifying true negatives.This is especially important in predicting customer churn because any false negatives is missed revenue"
   ]
  },
  {
   "cell_type": "markdown",
   "metadata": {},
   "source": [
    "### Area Under the Curve"
   ]
  },
  {
   "cell_type": "code",
   "execution_count": 638,
   "metadata": {},
   "outputs": [
    {
     "data": {
      "image/png": "[encoded data removed]",
      "text/plain": [
       "<Figure size 640x480 with 1 Axes>"
      ]
     },
     "metadata": {},
     "output_type": "display_data"
    }
   ],
   "source": [
    "y_pred_prob = log_model.predict_proba(X_test)[::,1]\n",
    "fpr, tpr, _ = roc_curve(y_test, y_pred_prob)\n",
    "auc = roc_auc_score(y_test, y_pred_prob)\n",
    "plt.plot(fpr,tpr,label=\"data 1, auc=\"+str(auc))\n",
    "plt.legend(loc=4)\n",
    "plt.show()"
   ]
  },
  {
   "cell_type": "markdown",
   "metadata": {},
   "source": [
    "## Random Forest Classifier"
   ]
  },
  {
   "cell_type": "markdown",
   "metadata": {},
   "source": [
    "### Fit model"
   ]
  },
  {
   "cell_type": "code",
   "execution_count": 639,
   "metadata": {},
   "outputs": [],
   "source": [
    "rf = RandomForestClassifier(random_state=23)\n",
    "rf.fit(X_train, y_train)\n",
    "y_pred = rf.predict(X_test)"
   ]
  },
  {
   "cell_type": "markdown",
   "metadata": {},
   "source": [
    "### Confusion Matrix"
   ]
  },
  {
   "cell_type": "code",
   "execution_count": 640,
   "metadata": {},
   "outputs": [
    {
     "name": "stdout",
     "output_type": "stream",
     "text": [
      "[[ 111  926]\n",
      " [  26 1007]]\n"
     ]
    }
   ],
   "source": [
    "rf_cnf_matrix = confusion_matrix(y_test,y_pred)\n",
    "print(rf_cnf_matrix)"
   ]
  },
  {
   "cell_type": "markdown",
   "metadata": {},
   "source": [
    "### Classification Report"
   ]
  },
  {
   "cell_type": "code",
   "execution_count": 641,
   "metadata": {},
   "outputs": [
    {
     "name": "stdout",
     "output_type": "stream",
     "text": [
      "              precision    recall  f1-score   support\n",
      "\n",
      "           0       0.81      0.11      0.19      1037\n",
      "           1       0.52      0.97      0.68      1033\n",
      "\n",
      "    accuracy                           0.54      2070\n",
      "   macro avg       0.67      0.54      0.43      2070\n",
      "weighted avg       0.67      0.54      0.43      2070\n",
      "\n"
     ]
    }
   ],
   "source": [
    "cr = classification_report(y_test, y_pred)\n",
    "print(cr)"
   ]
  },
  {
   "cell_type": "markdown",
   "metadata": {},
   "source": [
    "The base Random Forest model can predict customer churn very well but lacks the accuracy in predicting true positives as we can tell from the precision score. Let's apply some hyperparameter tuning to see if this can be improved without affecting the model's recall"
   ]
  },
  {
   "cell_type": "markdown",
   "metadata": {},
   "source": [
    "### Hyperparameter Tuning"
   ]
  },
  {
   "cell_type": "markdown",
   "metadata": {},
   "source": [
    "Key Parameters:\n",
    "* n_estimators: the amount of trees in our random forest\n",
    "* max_depth: max number of levels in the trees\n",
    "* min_samples_split: min number of samples required to split a node (helps prevent overfitting)"
   ]
  },
  {
   "cell_type": "code",
   "execution_count": 642,
   "metadata": {},
   "outputs": [
    {
     "name": "stdout",
     "output_type": "stream",
     "text": [
      "\n",
      "Best parameters found:\n",
      "{'bootstrap': False,\n",
      " 'max_depth': 20,\n",
      " 'max_features': 'log2',\n",
      " 'min_samples_leaf': 2,\n",
      " 'min_samples_split': 5,\n",
      " 'n_estimators': 800}\n",
      "\n",
      "Best cross validation score: 0.9316\n"
     ]
    }
   ],
   "source": [
    "param_grid = {\n",
    "    'n_estimators': [100, 300, 500, 800],  # Number of trees\n",
    "    'max_depth': [10, 20, None],  # Depth of trees\n",
    "    'min_samples_split': [2, 5, 10],  # Min samples for node split\n",
    "    'min_samples_leaf': [1, 2, 4],  # Min samples in leaf\n",
    "    'max_features': ['sqrt', 'log2'],  # Features per tree\n",
    "    'bootstrap': [True, False]  # Sampling method\n",
    "}\n",
    "\n",
    "rf = RandomForestClassifier(random_state=23)\n",
    "rf_random = RandomizedSearchCV(\n",
    "    rf, \n",
    "    param_grid, \n",
    "    cv=5, \n",
    "    scoring='roc_auc', \n",
    "    n_iter=50, \n",
    "    n_jobs=-1)\n",
    "\n",
    "rf_random.fit(X_train, y_train)\n",
    "\n",
    "print(\"\\nBest parameters found:\")\n",
    "pprint(rf_random.best_params_)\n",
    "print(f\"\\nBest cross validation score: {rf_random.best_score_:.4f}\")"
   ]
  },
  {
   "cell_type": "markdown",
   "metadata": {},
   "source": [
    "### Run Tuned Random Forest Model"
   ]
  },
  {
   "cell_type": "code",
   "execution_count": 643,
   "metadata": {},
   "outputs": [],
   "source": [
    "best_rf = rf_random.best_estimator_\n",
    "y_pred = best_rf.predict(X_test)"
   ]
  },
  {
   "cell_type": "markdown",
   "metadata": {},
   "source": [
    "### New Confusion Matrix"
   ]
  },
  {
   "cell_type": "code",
   "execution_count": 644,
   "metadata": {},
   "outputs": [
    {
     "data": {
      "text/plain": [
       "Text(50.722222222222214, 0.5, 'Actual label')"
      ]
     },
     "execution_count": 644,
     "metadata": {},
     "output_type": "execute_result"
    },
    {
     "data": {
      "image/png": "[encoded data removed]",
      "text/plain": [
       "<Figure size 640x480 with 2 Axes>"
      ]
     },
     "metadata": {},
     "output_type": "display_data"
    }
   ],
   "source": [
    "# confusion matrix\n",
    "conf_matrix = confusion_matrix(y_test, y_pred)\n",
    "\n",
    "# visualize confusion matrix with a heatmap\n",
    "class_names = [0,1]\n",
    "fig, ax = plt.subplots()\n",
    "tick_marks = np.arange(len(class_names))\n",
    "plt.xticks(tick_marks, class_names)\n",
    "plt.yticks(tick_marks, class_names)\n",
    "\n",
    "# heatmap\n",
    "sns.heatmap(pd.DataFrame(conf_matrix), annot=True, cmap='coolwarm', fmt='g')\n",
    "ax.xaxis.set_label_position(\"top\")\n",
    "plt.tight_layout()\n",
    "plt.title(\"Confusion Matrix\", y=1.1)\n",
    "plt.xlabel(\"Predicted label\")\n",
    "plt.ylabel(\"Actual label\")"
   ]
  },
  {
   "cell_type": "markdown",
   "metadata": {},
   "source": [
    "### New Classification Report"
   ]
  },
  {
   "cell_type": "code",
   "execution_count": 645,
   "metadata": {},
   "outputs": [
    {
     "name": "stdout",
     "output_type": "stream",
     "text": [
      "\n",
      "Classification Report:\n",
      "              precision    recall  f1-score   support\n",
      "\n",
      "           0       0.87      0.08      0.14      1037\n",
      "           1       0.52      0.99      0.68      1033\n",
      "\n",
      "    accuracy                           0.53      2070\n",
      "   macro avg       0.69      0.53      0.41      2070\n",
      "weighted avg       0.69      0.53      0.41      2070\n",
      "\n"
     ]
    }
   ],
   "source": [
    "print(\"\\nClassification Report:\")\n",
    "print(classification_report(y_test, y_pred))"
   ]
  },
  {
   "cell_type": "markdown",
   "metadata": {},
   "source": [
    "## Check for overfitting"
   ]
  },
  {
   "cell_type": "markdown",
   "metadata": {},
   "source": [
    "### Logistic Regression"
   ]
  },
  {
   "cell_type": "code",
   "execution_count": 646,
   "metadata": {},
   "outputs": [
    {
     "name": "stdout",
     "output_type": "stream",
     "text": [
      "Mean CV Accuracy: 0.853 (+/- 0.020)\n",
      "Train Accuracy: 0.8311186276878473\n",
      "Test Accuracy: 0.8285024154589372\n",
      "\n",
      "Classification Report (Train):\n",
      "               precision    recall  f1-score   support\n",
      "\n",
      "           0       0.83      0.83      0.83      4137\n",
      "           1       0.83      0.83      0.83      4141\n",
      "\n",
      "    accuracy                           0.83      8278\n",
      "   macro avg       0.83      0.83      0.83      8278\n",
      "weighted avg       0.83      0.83      0.83      8278\n",
      "\n",
      "\n",
      "Classification Report (Test):\n",
      "               precision    recall  f1-score   support\n",
      "\n",
      "           0       0.84      0.81      0.83      1037\n",
      "           1       0.82      0.84      0.83      1033\n",
      "\n",
      "    accuracy                           0.83      2070\n",
      "   macro avg       0.83      0.83      0.83      2070\n",
      "weighted avg       0.83      0.83      0.83      2070\n",
      "\n",
      "\n",
      "AUC-ROC Train: 0.9206071839076937\n",
      "AUC-ROC Test: 0.9209360160041672\n"
     ]
    }
   ],
   "source": [
    "from sklearn.metrics import accuracy_score, classification_report, roc_auc_score\n",
    "\n",
    "# Predictions on training and test sets\n",
    "y_train_pred = log_model.predict(X_train)\n",
    "y_test_pred = log_model.predict(X_test)\n",
    "\n",
    "# AUC-ROC scores\n",
    "train_auc = roc_auc_score(y_train, log_model.predict_proba(X_train)[:, 1])\n",
    "test_auc = roc_auc_score(y_test, log_model.predict_proba(X_test)[:, 1])\n",
    "cv_scores = cross_val_score(best_rf, X_train, y_train, cv=5)\n",
    "\n",
    "print(f\"Mean CV Accuracy: {cv_scores.mean():.3f} (+/- {cv_scores.std() * 2:.3f})\")\n",
    "print(\"Train Accuracy:\", accuracy_score(y_train, y_train_pred))\n",
    "print(\"Test Accuracy:\", accuracy_score(y_test, y_test_pred))\n",
    "print(\"\\nClassification Report (Train):\\n\", classification_report(y_train, y_train_pred))\n",
    "print(\"\\nClassification Report (Test):\\n\", classification_report(y_test, y_test_pred))\n",
    "print(\"\\nAUC-ROC Train:\", train_auc)\n",
    "print(\"AUC-ROC Test:\", test_auc)"
   ]
  },
  {
   "cell_type": "markdown",
   "metadata": {},
   "source": [
    "No overfitting from the Logistic Regression. \n",
    "* Overall model accuracy stayed the same between training and testing.\n",
    "* Recall increased when the model was exposed to new data which indicates the model found good patterns in the training data and was able to learn those patterns instead of memorizing them\n",
    "* AUC-ROC value is close to 1 for both the train and test sets which indicates that the model can predict the right outcome around 92% of the time"
   ]
  },
  {
   "cell_type": "markdown",
   "metadata": {},
   "source": [
    "### Random Forest"
   ]
  },
  {
   "cell_type": "code",
   "execution_count": 647,
   "metadata": {},
   "outputs": [
    {
     "name": "stdout",
     "output_type": "stream",
     "text": [
      "Mean CV Accuracy: 0.853 (+/- 0.020)\n",
      "Train Accuracy: 0.9611017153901908\n",
      "Test Accuracy: 0.5309178743961352\n",
      "\n",
      "Classification Report (Train):\n",
      "               precision    recall  f1-score   support\n",
      "\n",
      "           0       0.97      0.95      0.96      4137\n",
      "           1       0.95      0.97      0.96      4141\n",
      "\n",
      "    accuracy                           0.96      8278\n",
      "   macro avg       0.96      0.96      0.96      8278\n",
      "weighted avg       0.96      0.96      0.96      8278\n",
      "\n",
      "\n",
      "Classification Report (Test):\n",
      "               precision    recall  f1-score   support\n",
      "\n",
      "           0       0.87      0.08      0.14      1037\n",
      "           1       0.52      0.99      0.68      1033\n",
      "\n",
      "    accuracy                           0.53      2070\n",
      "   macro avg       0.69      0.53      0.41      2070\n",
      "weighted avg       0.69      0.53      0.41      2070\n",
      "\n",
      "\n",
      "AUC-ROC Train: 0.9953911599440953\n",
      "AUC-ROC Test: 0.8834736249569417\n"
     ]
    }
   ],
   "source": [
    "from sklearn.metrics import accuracy_score, classification_report, roc_auc_score\n",
    "\n",
    "# Predictions on training and test sets\n",
    "y_train_pred = best_rf.predict(X_train)\n",
    "y_test_pred = best_rf.predict(X_test)\n",
    "\n",
    "# AUC-ROC scores\n",
    "train_auc = roc_auc_score(y_train, best_rf.predict_proba(X_train)[:, 1])\n",
    "test_auc = roc_auc_score(y_test, best_rf.predict_proba(X_test)[:, 1])\n",
    "cv_scores = cross_val_score(best_rf, X_train, y_train, cv=5)\n",
    "\n",
    "print(f\"Mean CV Accuracy: {cv_scores.mean():.3f} (+/- {cv_scores.std() * 2:.3f})\")\n",
    "print(\"Train Accuracy:\", accuracy_score(y_train, y_train_pred))\n",
    "print(\"Test Accuracy:\", accuracy_score(y_test, y_test_pred))\n",
    "print(\"\\nClassification Report (Train):\\n\", classification_report(y_train, y_train_pred))\n",
    "print(\"\\nClassification Report (Test):\\n\", classification_report(y_test, y_test_pred))\n",
    "print(\"\\nAUC-ROC Train:\", train_auc)\n",
    "print(\"AUC-ROC Test:\", test_auc)"
   ]
  },
  {
   "cell_type": "markdown",
   "metadata": {},
   "source": [
    "We can see clear overfit for the Random Forest\n",
    "* Training accuracy is significantly higher than the testing accuracy which means the model just memorized the training data, thus failing to predict the correct outcomes when met with new data\n",
    "* Though the AUC-ROC values are high, the testing value is much lower than the training value, again indicating overfit"
   ]
  },
  {
   "cell_type": "markdown",
   "metadata": {},
   "source": [
    "# Final Thoughts"
   ]
  },
  {
   "cell_type": "markdown",
   "metadata": {},
   "source": [
    "Based on the classification reports and the AUC-ROC values, we were able to identify that the Logisitc Regression is the better model for prediciting customer churn in this dataset. The Random Forest performed poorly as it suffered from overfitting. This could be due to the fact that there are linear relationships between the features and the target variable which would make the simpler logistic regression outperfom the random forest since random forests thrive off of complex, non-linear data. Let's confirm if our features and target variable have a linear relationship"
   ]
  },
  {
   "cell_type": "markdown",
   "metadata": {},
   "source": [
    "### Verify Feature Relationship with Target Variable"
   ]
  },
  {
   "cell_type": "markdown",
   "metadata": {},
   "source": [
    "By checking the coefficients of our features, we can identify what features have a linear relationship with the target variable. Since we implemented SMOTE oversampling on the training set, we need to make sure that the coefficients remained intact after oversampling to ensure we didn't alter any fundamental relationships in the original data."
   ]
  },
  {
   "cell_type": "code",
   "execution_count": 648,
   "metadata": {},
   "outputs": [
    {
     "name": "stdout",
     "output_type": "stream",
     "text": [
      "\n",
      "Coefficients BEFORE oversampling the training data:\n",
      "                                    Feature  Coefficient\n",
      "29                        count_of_services     6.481319\n",
      "10                           MonthlyCharges     4.278822\n",
      "14                       InternetService_no     2.193989\n",
      "11                             TotalCharges     1.162257\n",
      "15                  Contract_month-to-month     0.310196\n",
      "27           TenureCategory_3_plus_customer     0.146566\n",
      "23                     PackageTier_high_end     0.114035\n",
      "20           PaymentMethod_electronic check     0.097909\n",
      "28              TenureCategory_new_customer     0.016105\n",
      "25                      PackageTier_premium     0.010954\n",
      "24                     PackageTier_mid_tier     0.010730\n",
      "18  PaymentMethod_bank transfer (automatic)    -0.017568\n",
      "16                        Contract_one year    -0.035068\n",
      "19    PaymentMethod_credit card (automatic)    -0.048028\n",
      "21               PaymentMethod_mailed check    -0.054568\n",
      "12                      InternetService_dsl    -0.076920\n",
      "22                        PackageTier_basic    -0.121554\n",
      "26         TenureCategory_1_to_3yr_customer    -0.178816\n",
      "17                        Contract_two year    -0.352784\n",
      "9                          PaperlessBilling    -1.282654\n",
      "13              InternetService_fiber optic    -1.574510\n",
      "2                             MultipleLines    -1.710447\n",
      "6                               TechSupport    -1.717468\n",
      "5                          DeviceProtection    -1.726778\n",
      "3                            OnlineSecurity    -1.765287\n",
      "4                              OnlineBackup    -1.802342\n",
      "0                                    tenure    -1.854202\n",
      "1                              PhoneService    -1.994872\n",
      "8                           StreamingMovies    -2.037086\n",
      "7                               StreamingTV    -2.050051\n",
      "\n",
      "Coefficients AFTER oversampling the training data:\n",
      "                                    Feature  Coefficient\n",
      "29                        count_of_services     6.481319\n",
      "10                           MonthlyCharges     4.278822\n",
      "14                       InternetService_no     2.193989\n",
      "11                             TotalCharges     1.162257\n",
      "15                  Contract_month-to-month     0.310196\n",
      "27           TenureCategory_3_plus_customer     0.146566\n",
      "23                     PackageTier_high_end     0.114035\n",
      "20           PaymentMethod_electronic check     0.097909\n",
      "28              TenureCategory_new_customer     0.016105\n",
      "25                      PackageTier_premium     0.010954\n",
      "24                     PackageTier_mid_tier     0.010730\n",
      "18  PaymentMethod_bank transfer (automatic)    -0.017568\n",
      "16                        Contract_one year    -0.035068\n",
      "19    PaymentMethod_credit card (automatic)    -0.048028\n",
      "21               PaymentMethod_mailed check    -0.054568\n",
      "12                      InternetService_dsl    -0.076920\n",
      "22                        PackageTier_basic    -0.121554\n",
      "26         TenureCategory_1_to_3yr_customer    -0.178816\n",
      "17                        Contract_two year    -0.352784\n",
      "9                          PaperlessBilling    -1.282654\n",
      "13              InternetService_fiber optic    -1.574510\n",
      "2                             MultipleLines    -1.710447\n",
      "6                               TechSupport    -1.717468\n",
      "5                          DeviceProtection    -1.726778\n",
      "3                            OnlineSecurity    -1.765287\n",
      "4                              OnlineBackup    -1.802342\n",
      "0                                    tenure    -1.854202\n",
      "1                              PhoneService    -1.994872\n",
      "8                           StreamingMovies    -2.037086\n",
      "7                               StreamingTV    -2.050051\n"
     ]
    }
   ],
   "source": [
    "coefficients = pd.DataFrame({\"Feature\": X.columns, \"Coefficient\": log_model.coef_[0]})\n",
    "coefficients = coefficients.sort_values(by=\"Coefficient\", ascending=False)\n",
    "print(\"\\nCoefficients BEFORE oversampling the training data:\")\n",
    "print(coefficients)\n",
    "\n",
    "coefficient_after_SMOTE = pd.DataFrame({\"Feature\": X_resampled.columns, \"Coefficient\": log_model.coef_[0]})\n",
    "coefficient_after_SMOTE = coefficient_after_SMOTE.sort_values(by=\"Coefficient\", ascending=False)\n",
    "print(\"\\nCoefficients AFTER oversampling the training data:\")\n",
    "print(coefficient_after_SMOTE)"
   ]
  },
  {
   "cell_type": "markdown",
   "metadata": {},
   "source": [
    "Coefficients match up which means we successfully didn't alter any relationships with the oversampling technique. We can also see from the high negative or positive coefficients that a decent amount of our features have linear relationships with the target variable"
   ]
  },
  {
   "cell_type": "markdown",
   "metadata": {},
   "source": [
    "Now that we see that select features have a linear relationship with the target variable, it makes sense why the logistic regression would perform better than the Random Forest."
   ]
  }
 ],
 "metadata": {
  "kernelspec": {
   "display_name": "venv",
   "language": "python",
   "name": "python3"
  },
  "language_info": {
   "codemirror_mode": {
    "name": "ipython",
    "version": 3
   },
   "file_extension": ".py",
   "mimetype": "text/x-python",
   "name": "python",
   "nbconvert_exporter": "python",
   "pygments_lexer": "ipython3",
   "version": "3.12.4"
  }
 },
 "nbformat": 4,
 "nbformat_minor": 2
}
