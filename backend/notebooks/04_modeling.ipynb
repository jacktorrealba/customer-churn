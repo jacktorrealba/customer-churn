{
 "cells": [
  {
   "cell_type": "markdown",
   "metadata": {},
   "source": [
    "# Customer Churn - Modeling"
   ]
  },
  {
   "cell_type": "markdown",
   "metadata": {},
   "source": [
    "## Imports"
   ]
  },
  {
   "cell_type": "code",
   "execution_count": 18,
   "metadata": {},
   "outputs": [],
   "source": [
    "#%pip install Flask"
   ]
  },
  {
   "cell_type": "code",
   "execution_count": 19,
   "metadata": {},
   "outputs": [],
   "source": [
    "# imports\n",
    "import numpy as np\n",
    "import pandas as pd\n",
    "import matplotlib.pyplot as plt\n",
    "import seaborn as sns\n",
    "from sklearn.preprocessing import StandardScaler\n",
    "from sklearn.linear_model import LogisticRegression\n",
    "from sklearn.ensemble import RandomForestClassifier\n",
    "from sklearn.model_selection import train_test_split, RandomizedSearchCV, cross_val_score, learning_curve\n",
    "from sklearn.metrics import classification_report, confusion_matrix, roc_curve, roc_auc_score\n",
    "from pprint import pprint\n"
   ]
  },
  {
   "cell_type": "markdown",
   "metadata": {},
   "source": [
    "## Read in data "
   ]
  },
  {
   "cell_type": "code",
   "execution_count": 20,
   "metadata": {},
   "outputs": [
    {
     "data": {
      "text/html": [
       "<div>\n",
       "<style scoped>\n",
       "    .dataframe tbody tr th:only-of-type {\n",
       "        vertical-align: middle;\n",
       "    }\n",
       "\n",
       "    .dataframe tbody tr th {\n",
       "        vertical-align: top;\n",
       "    }\n",
       "\n",
       "    .dataframe thead th {\n",
       "        text-align: right;\n",
       "    }\n",
       "</style>\n",
       "<table border=\"1\" class=\"dataframe\">\n",
       "  <thead>\n",
       "    <tr style=\"text-align: right;\">\n",
       "      <th></th>\n",
       "      <th>tenure</th>\n",
       "      <th>PhoneService</th>\n",
       "      <th>MultipleLines</th>\n",
       "      <th>OnlineSecurity</th>\n",
       "      <th>OnlineBackup</th>\n",
       "      <th>DeviceProtection</th>\n",
       "      <th>TechSupport</th>\n",
       "      <th>StreamingTV</th>\n",
       "      <th>StreamingMovies</th>\n",
       "      <th>PaperlessBilling</th>\n",
       "      <th>...</th>\n",
       "      <th>PaymentMethod_electroniccheck</th>\n",
       "      <th>PaymentMethod_mailedcheck</th>\n",
       "      <th>PackageTier_basic</th>\n",
       "      <th>PackageTier_high_end</th>\n",
       "      <th>PackageTier_mid_tier</th>\n",
       "      <th>PackageTier_premium</th>\n",
       "      <th>TenureCategory_1_to_3yr_customer</th>\n",
       "      <th>TenureCategory_3_plus_customer</th>\n",
       "      <th>TenureCategory_new_customer</th>\n",
       "      <th>count_of_services</th>\n",
       "    </tr>\n",
       "  </thead>\n",
       "  <tbody>\n",
       "    <tr>\n",
       "      <th>0</th>\n",
       "      <td>1</td>\n",
       "      <td>0</td>\n",
       "      <td>0</td>\n",
       "      <td>0</td>\n",
       "      <td>1</td>\n",
       "      <td>0</td>\n",
       "      <td>0</td>\n",
       "      <td>0</td>\n",
       "      <td>0</td>\n",
       "      <td>1</td>\n",
       "      <td>...</td>\n",
       "      <td>1</td>\n",
       "      <td>0</td>\n",
       "      <td>1</td>\n",
       "      <td>0</td>\n",
       "      <td>0</td>\n",
       "      <td>0</td>\n",
       "      <td>0</td>\n",
       "      <td>0</td>\n",
       "      <td>1</td>\n",
       "      <td>3</td>\n",
       "    </tr>\n",
       "    <tr>\n",
       "      <th>1</th>\n",
       "      <td>34</td>\n",
       "      <td>1</td>\n",
       "      <td>0</td>\n",
       "      <td>1</td>\n",
       "      <td>0</td>\n",
       "      <td>1</td>\n",
       "      <td>0</td>\n",
       "      <td>0</td>\n",
       "      <td>0</td>\n",
       "      <td>0</td>\n",
       "      <td>...</td>\n",
       "      <td>0</td>\n",
       "      <td>1</td>\n",
       "      <td>0</td>\n",
       "      <td>0</td>\n",
       "      <td>1</td>\n",
       "      <td>0</td>\n",
       "      <td>1</td>\n",
       "      <td>0</td>\n",
       "      <td>0</td>\n",
       "      <td>4</td>\n",
       "    </tr>\n",
       "    <tr>\n",
       "      <th>2</th>\n",
       "      <td>2</td>\n",
       "      <td>1</td>\n",
       "      <td>0</td>\n",
       "      <td>1</td>\n",
       "      <td>1</td>\n",
       "      <td>0</td>\n",
       "      <td>0</td>\n",
       "      <td>0</td>\n",
       "      <td>0</td>\n",
       "      <td>1</td>\n",
       "      <td>...</td>\n",
       "      <td>0</td>\n",
       "      <td>1</td>\n",
       "      <td>0</td>\n",
       "      <td>0</td>\n",
       "      <td>1</td>\n",
       "      <td>0</td>\n",
       "      <td>0</td>\n",
       "      <td>0</td>\n",
       "      <td>1</td>\n",
       "      <td>5</td>\n",
       "    </tr>\n",
       "    <tr>\n",
       "      <th>3</th>\n",
       "      <td>45</td>\n",
       "      <td>0</td>\n",
       "      <td>0</td>\n",
       "      <td>1</td>\n",
       "      <td>0</td>\n",
       "      <td>1</td>\n",
       "      <td>1</td>\n",
       "      <td>0</td>\n",
       "      <td>0</td>\n",
       "      <td>0</td>\n",
       "      <td>...</td>\n",
       "      <td>0</td>\n",
       "      <td>0</td>\n",
       "      <td>0</td>\n",
       "      <td>0</td>\n",
       "      <td>1</td>\n",
       "      <td>0</td>\n",
       "      <td>0</td>\n",
       "      <td>1</td>\n",
       "      <td>0</td>\n",
       "      <td>4</td>\n",
       "    </tr>\n",
       "    <tr>\n",
       "      <th>4</th>\n",
       "      <td>2</td>\n",
       "      <td>1</td>\n",
       "      <td>0</td>\n",
       "      <td>0</td>\n",
       "      <td>0</td>\n",
       "      <td>0</td>\n",
       "      <td>0</td>\n",
       "      <td>0</td>\n",
       "      <td>0</td>\n",
       "      <td>1</td>\n",
       "      <td>...</td>\n",
       "      <td>1</td>\n",
       "      <td>0</td>\n",
       "      <td>0</td>\n",
       "      <td>0</td>\n",
       "      <td>0</td>\n",
       "      <td>1</td>\n",
       "      <td>0</td>\n",
       "      <td>0</td>\n",
       "      <td>1</td>\n",
       "      <td>3</td>\n",
       "    </tr>\n",
       "  </tbody>\n",
       "</table>\n",
       "<p>5 rows × 31 columns</p>\n",
       "</div>"
      ],
      "text/plain": [
       "   tenure  PhoneService  MultipleLines  OnlineSecurity  OnlineBackup  \\\n",
       "0       1             0              0               0             1   \n",
       "1      34             1              0               1             0   \n",
       "2       2             1              0               1             1   \n",
       "3      45             0              0               1             0   \n",
       "4       2             1              0               0             0   \n",
       "\n",
       "   DeviceProtection  TechSupport  StreamingTV  StreamingMovies  \\\n",
       "0                 0            0            0                0   \n",
       "1                 1            0            0                0   \n",
       "2                 0            0            0                0   \n",
       "3                 1            1            0                0   \n",
       "4                 0            0            0                0   \n",
       "\n",
       "   PaperlessBilling  ...  PaymentMethod_electroniccheck  \\\n",
       "0                 1  ...                              1   \n",
       "1                 0  ...                              0   \n",
       "2                 1  ...                              0   \n",
       "3                 0  ...                              0   \n",
       "4                 1  ...                              1   \n",
       "\n",
       "   PaymentMethod_mailedcheck  PackageTier_basic  PackageTier_high_end  \\\n",
       "0                          0                  1                     0   \n",
       "1                          1                  0                     0   \n",
       "2                          1                  0                     0   \n",
       "3                          0                  0                     0   \n",
       "4                          0                  0                     0   \n",
       "\n",
       "   PackageTier_mid_tier  PackageTier_premium  \\\n",
       "0                     0                    0   \n",
       "1                     1                    0   \n",
       "2                     1                    0   \n",
       "3                     1                    0   \n",
       "4                     0                    1   \n",
       "\n",
       "   TenureCategory_1_to_3yr_customer  TenureCategory_3_plus_customer  \\\n",
       "0                                 0                               0   \n",
       "1                                 1                               0   \n",
       "2                                 0                               0   \n",
       "3                                 0                               1   \n",
       "4                                 0                               0   \n",
       "\n",
       "   TenureCategory_new_customer  count_of_services  \n",
       "0                            1                  3  \n",
       "1                            0                  4  \n",
       "2                            1                  5  \n",
       "3                            0                  4  \n",
       "4                            1                  3  \n",
       "\n",
       "[5 rows x 31 columns]"
      ]
     },
     "execution_count": 20,
     "metadata": {},
     "output_type": "execute_result"
    }
   ],
   "source": [
    "df = pd.read_csv('backend/data/processed/customer_churn_fe.csv')\n",
    "df.head()\n"
   ]
  },
  {
   "cell_type": "code",
   "execution_count": 21,
   "metadata": {},
   "outputs": [
    {
     "name": "stdout",
     "output_type": "stream",
     "text": [
      "<class 'pandas.core.frame.DataFrame'>\n",
      "RangeIndex: 7043 entries, 0 to 7042\n",
      "Data columns (total 30 columns):\n",
      " #   Column                            Non-Null Count  Dtype  \n",
      "---  ------                            --------------  -----  \n",
      " 0   tenure                            7043 non-null   int64  \n",
      " 1   PhoneService                      7043 non-null   int64  \n",
      " 2   MultipleLines                     7043 non-null   int64  \n",
      " 3   OnlineSecurity                    7043 non-null   int64  \n",
      " 4   OnlineBackup                      7043 non-null   int64  \n",
      " 5   DeviceProtection                  7043 non-null   int64  \n",
      " 6   TechSupport                       7043 non-null   int64  \n",
      " 7   StreamingTV                       7043 non-null   int64  \n",
      " 8   StreamingMovies                   7043 non-null   int64  \n",
      " 9   PaperlessBilling                  7043 non-null   int64  \n",
      " 10  MonthlyCharges                    7043 non-null   float64\n",
      " 11  TotalCharges                      7043 non-null   float64\n",
      " 12  InternetService_dsl               7043 non-null   int64  \n",
      " 13  InternetService_fiberoptic        7043 non-null   int64  \n",
      " 14  InternetService_no                7043 non-null   int64  \n",
      " 15  Contract_month_to_month           7043 non-null   int64  \n",
      " 16  Contract_oneyear                  7043 non-null   int64  \n",
      " 17  Contract_twoyear                  7043 non-null   int64  \n",
      " 18  PaymentMethod_banktransfer        7043 non-null   int64  \n",
      " 19  PaymentMethod_creditcard          7043 non-null   int64  \n",
      " 20  PaymentMethod_electroniccheck     7043 non-null   int64  \n",
      " 21  PaymentMethod_mailedcheck         7043 non-null   int64  \n",
      " 22  PackageTier_basic                 7043 non-null   int64  \n",
      " 23  PackageTier_high_end              7043 non-null   int64  \n",
      " 24  PackageTier_mid_tier              7043 non-null   int64  \n",
      " 25  PackageTier_premium               7043 non-null   int64  \n",
      " 26  TenureCategory_1_to_3yr_customer  7043 non-null   int64  \n",
      " 27  TenureCategory_3_plus_customer    7043 non-null   int64  \n",
      " 28  TenureCategory_new_customer       7043 non-null   int64  \n",
      " 29  count_of_services                 7043 non-null   int64  \n",
      "dtypes: float64(2), int64(28)\n",
      "memory usage: 1.6 MB\n"
     ]
    }
   ],
   "source": [
    "# split into x and y variables\n",
    "\n",
    "# target variable - churn\n",
    "y = df['Churn']\n",
    "\n",
    "# x variables\n",
    "X = df.drop(columns='Churn')\n",
    "\n",
    "#print(\"\\nTarget variable:\")\n",
    "#print(y.head())\n",
    "\n",
    "#print(\"\\nX variables:\")\n",
    "#X.head()\n",
    "X.info()"
   ]
  },
  {
   "cell_type": "code",
   "execution_count": 22,
   "metadata": {},
   "outputs": [
    {
     "name": "stdout",
     "output_type": "stream",
     "text": [
      "Churn\n",
      "0    5174\n",
      "1    1869\n",
      "Name: count, dtype: int64\n"
     ]
    }
   ],
   "source": [
    "# check for imbalance data in our target variable\n",
    "print(y.value_counts())"
   ]
  },
  {
   "cell_type": "markdown",
   "metadata": {},
   "source": [
    "since our target variable is imbalanced, let's try to oversample the minority to ensure our model can accurately predict"
   ]
  },
  {
   "cell_type": "code",
   "execution_count": 23,
   "metadata": {},
   "outputs": [
    {
     "name": "stdout",
     "output_type": "stream",
     "text": [
      "       tenure  PhoneService  MultipleLines  OnlineSecurity  OnlineBackup  \\\n",
      "0           1             0              0               0             1   \n",
      "1          34             1              0               1             0   \n",
      "2           2             1              0               1             1   \n",
      "3          45             0              0               1             0   \n",
      "4           2             1              0               0             0   \n",
      "...       ...           ...            ...             ...           ...   \n",
      "10343       2             1              1               0             0   \n",
      "10344      38             1              1               0             0   \n",
      "10345       4             0              0               0             0   \n",
      "10346       1             1              0               0             0   \n",
      "10347       6             1              0               0             0   \n",
      "\n",
      "       DeviceProtection  TechSupport  StreamingTV  StreamingMovies  \\\n",
      "0                     0            0            0                0   \n",
      "1                     1            0            0                0   \n",
      "2                     0            0            0                0   \n",
      "3                     1            1            0                0   \n",
      "4                     0            0            0                0   \n",
      "...                 ...          ...          ...              ...   \n",
      "10343                 0            0            0                1   \n",
      "10344                 0            0            1                1   \n",
      "10345                 0            0            0                0   \n",
      "10346                 0            0            0                1   \n",
      "10347                 0            0            0                0   \n",
      "\n",
      "       PaperlessBilling  ...  PaymentMethod_electroniccheck  \\\n",
      "0                     1  ...                              1   \n",
      "1                     0  ...                              0   \n",
      "2                     1  ...                              0   \n",
      "3                     0  ...                              0   \n",
      "4                     1  ...                              1   \n",
      "...                 ...  ...                            ...   \n",
      "10343                 1  ...                              1   \n",
      "10344                 1  ...                              0   \n",
      "10345                 0  ...                              0   \n",
      "10346                 0  ...                              0   \n",
      "10347                 1  ...                              0   \n",
      "\n",
      "       PaymentMethod_mailedcheck  PackageTier_basic  PackageTier_high_end  \\\n",
      "0                              0                  1                     0   \n",
      "1                              1                  0                     0   \n",
      "2                              1                  0                     0   \n",
      "3                              0                  0                     0   \n",
      "4                              0                  0                     0   \n",
      "...                          ...                ...                   ...   \n",
      "10343                          0                  0                     0   \n",
      "10344                          0                  0                     0   \n",
      "10345                          0                  0                     0   \n",
      "10346                          0                  0                     0   \n",
      "10347                          0                  0                     0   \n",
      "\n",
      "       PackageTier_mid_tier  PackageTier_premium  \\\n",
      "0                         0                    0   \n",
      "1                         1                    0   \n",
      "2                         1                    0   \n",
      "3                         1                    0   \n",
      "4                         0                    1   \n",
      "...                     ...                  ...   \n",
      "10343                     0                    1   \n",
      "10344                     0                    0   \n",
      "10345                     1                    0   \n",
      "10346                     0                    1   \n",
      "10347                     1                    0   \n",
      "\n",
      "       TenureCategory_1_to_3yr_customer  TenureCategory_3_plus_customer  \\\n",
      "0                                     0                               0   \n",
      "1                                     1                               0   \n",
      "2                                     0                               0   \n",
      "3                                     0                               1   \n",
      "4                                     0                               0   \n",
      "...                                 ...                             ...   \n",
      "10343                                 0                               0   \n",
      "10344                                 0                               1   \n",
      "10345                                 0                               0   \n",
      "10346                                 0                               0   \n",
      "10347                                 0                               0   \n",
      "\n",
      "       TenureCategory_new_customer  count_of_services  \n",
      "0                                1                  3  \n",
      "1                                0                  4  \n",
      "2                                1                  5  \n",
      "3                                0                  4  \n",
      "4                                1                  3  \n",
      "...                            ...                ...  \n",
      "10343                            1                  6  \n",
      "10344                            0                  6  \n",
      "10345                            1                  3  \n",
      "10346                            1                  3  \n",
      "10347                            1                  3  \n",
      "\n",
      "[10348 rows x 30 columns]\n"
     ]
    }
   ],
   "source": [
    "from imblearn.over_sampling import SMOTE\n",
    "\n",
    "# resampling \n",
    "X_resampled, y_resampled = SMOTE().fit_resample(X, y)\n",
    "print(X_resampled)"
   ]
  },
  {
   "cell_type": "code",
   "execution_count": 86,
   "metadata": {},
   "outputs": [],
   "source": [
    "# split the data\n",
    "X_train, X_test, y_train, y_test = train_test_split(X_resampled,y_resampled, test_size=0.2, random_state=23)\n",
    "\n",
    "scalar = StandardScaler()\n",
    "\n",
    "# scale training floats ====\n",
    "# select the float types\n",
    "train_cols_to_scale = X_train.select_dtypes(include=['float64']).columns\n",
    "# transform\n",
    "train_scaled_cols = scalar.fit_transform(X_train[train_cols_to_scale])\n",
    "# rewrite the previous values to the scaled values\n",
    "X_train[train_cols_to_scale] = train_scaled_cols.astype(float)\n",
    "\n",
    "\n",
    "# scale testing floats\n",
    "test_cols_to_scale = X_test.select_dtypes(include=['float64']).columns\n",
    "test_scaled_cols = scalar.fit_transform(X_test[test_cols_to_scale])\n",
    "X_test[test_cols_to_scale] = test_scaled_cols.astype(float)"
   ]
  },
  {
   "cell_type": "markdown",
   "metadata": {},
   "source": [
    "## Logistic Regression"
   ]
  },
  {
   "cell_type": "markdown",
   "metadata": {},
   "source": [
    "First, we will a baseline model - the logistic regression to get a fundamental understanding of our data and how well our a baseline model performs with it."
   ]
  },
  {
   "cell_type": "markdown",
   "metadata": {},
   "source": [
    "### Fit model"
   ]
  },
  {
   "cell_type": "code",
   "execution_count": 101,
   "metadata": {},
   "outputs": [
    {
     "name": "stdout",
     "output_type": "stream",
     "text": [
      "       tenure  PhoneService  MultipleLines  OnlineSecurity  OnlineBackup  \\\n",
      "8242        1             1              1               0             0   \n",
      "7684       29             1              1               0             0   \n",
      "227         1             1              0               0             0   \n",
      "5681       34             1              0               0             0   \n",
      "9391        1             1              0               0             0   \n",
      "...       ...           ...            ...             ...           ...   \n",
      "6175       32             1              0               1             1   \n",
      "9704       13             1              0               0             0   \n",
      "10185       8             1              1               0             0   \n",
      "9256        1             1              1               0             0   \n",
      "8787       24             0              0               0             0   \n",
      "\n",
      "       DeviceProtection  TechSupport  StreamingTV  StreamingMovies  \\\n",
      "8242                  0            0            0                1   \n",
      "7684                  0            0            1                1   \n",
      "227                   0            0            1                0   \n",
      "5681                  1            1            1                0   \n",
      "9391                  0            0            0                0   \n",
      "...                 ...          ...          ...              ...   \n",
      "6175                  0            0            0                1   \n",
      "9704                  0            0            0                0   \n",
      "10185                 0            0            0                0   \n",
      "9256                  0            0            0                0   \n",
      "8787                  0            0            0                0   \n",
      "\n",
      "       PaperlessBilling  ...  PaymentMethod_electroniccheck  \\\n",
      "8242                  0  ...                              0   \n",
      "7684                  1  ...                              0   \n",
      "227                   0  ...                              0   \n",
      "5681                  0  ...                              0   \n",
      "9391                  0  ...                              0   \n",
      "...                 ...  ...                            ...   \n",
      "6175                  1  ...                              1   \n",
      "9704                  1  ...                              0   \n",
      "10185                 1  ...                              0   \n",
      "9256                  1  ...                              0   \n",
      "8787                  1  ...                              0   \n",
      "\n",
      "       PaymentMethod_mailedcheck  PackageTier_basic  PackageTier_high_end  \\\n",
      "8242                           0                  0                     0   \n",
      "7684                           0                  0                     0   \n",
      "227                            1                  0                     0   \n",
      "5681                           0                  0                     0   \n",
      "9391                           0                  0                     0   \n",
      "...                          ...                ...                   ...   \n",
      "6175                           0                  0                     0   \n",
      "9704                           0                  0                     0   \n",
      "10185                          0                  0                     0   \n",
      "9256                           0                  0                     0   \n",
      "8787                           0                  0                     0   \n",
      "\n",
      "       PackageTier_mid_tier  PackageTier_premium  \\\n",
      "8242                      0                    1   \n",
      "7684                      0                    1   \n",
      "227                       1                    0   \n",
      "5681                      1                    0   \n",
      "9391                      1                    0   \n",
      "...                     ...                  ...   \n",
      "6175                      0                    1   \n",
      "9704                      0                    1   \n",
      "10185                     0                    1   \n",
      "9256                      0                    1   \n",
      "8787                      0                    0   \n",
      "\n",
      "       TenureCategory_1_to_3yr_customer  TenureCategory_3_plus_customer  \\\n",
      "8242                                  0                               0   \n",
      "7684                                  1                               0   \n",
      "227                                   0                               0   \n",
      "5681                                  1                               0   \n",
      "9391                                  0                               0   \n",
      "...                                 ...                             ...   \n",
      "6175                                  1                               0   \n",
      "9704                                  0                               0   \n",
      "10185                                 0                               0   \n",
      "9256                                  0                               0   \n",
      "8787                                  0                               0   \n",
      "\n",
      "       TenureCategory_new_customer  count_of_services  \n",
      "8242                             1                  4  \n",
      "7684                             0                  7  \n",
      "227                              1                  3  \n",
      "5681                             0                  5  \n",
      "9391                             1                  3  \n",
      "...                            ...                ...  \n",
      "6175                             0                  6  \n",
      "9704                             0                  3  \n",
      "10185                            1                  4  \n",
      "9256                             1                  4  \n",
      "8787                             0                  3  \n",
      "\n",
      "[8278 rows x 30 columns]\n"
     ]
    },
    {
     "name": "stderr",
     "output_type": "stream",
     "text": [
      "/Users/jacktorrealba/Desktop/ML/customer_churn_predictor/venv/lib/python3.12/site-packages/sklearn/linear_model/_logistic.py:465: ConvergenceWarning: lbfgs failed to converge (status=1):\n",
      "STOP: TOTAL NO. OF ITERATIONS REACHED LIMIT.\n",
      "\n",
      "Increase the number of iterations (max_iter) or scale the data as shown in:\n",
      "    https://scikit-learn.org/stable/modules/preprocessing.html\n",
      "Please also refer to the documentation for alternative solver options:\n",
      "    https://scikit-learn.org/stable/modules/linear_model.html#logistic-regression\n",
      "  n_iter_i = _check_optimize_result(\n"
     ]
    }
   ],
   "source": [
    "# instantiate the model\n",
    "log_model = LogisticRegression(random_state=23)\n",
    "\n",
    "print(X_train)\n",
    "\n",
    "# fit\n",
    "log_model.fit(X_train,y_train)\n",
    "\n",
    "# predict \n",
    "y_pred = log_model.predict(X_test)\n",
    "y_proba = log_model.predict_proba(X_test)[:,1]\n"
   ]
  },
  {
   "cell_type": "markdown",
   "metadata": {},
   "source": [
    "### Confusion Matrix"
   ]
  },
  {
   "cell_type": "code",
   "execution_count": 88,
   "metadata": {},
   "outputs": [
    {
     "name": "stdout",
     "output_type": "stream",
     "text": [
      "[[904 133]\n",
      " [186 847]]\n"
     ]
    }
   ],
   "source": [
    "# confusion matrix\n",
    "cnf_matrix = confusion_matrix(y_test, y_pred)\n",
    "print(cnf_matrix)"
   ]
  },
  {
   "cell_type": "code",
   "execution_count": 89,
   "metadata": {},
   "outputs": [
    {
     "data": {
      "text/plain": [
       "Text(50.722222222222214, 0.5, 'Actual label')"
      ]
     },
     "execution_count": 89,
     "metadata": {},
     "output_type": "execute_result"
    },
    {
     "data": {
      "image/png": "[encoded data removed]",
      "text/plain": [
       "<Figure size 640x480 with 2 Axes>"
      ]
     },
     "metadata": {},
     "output_type": "display_data"
    }
   ],
   "source": [
    "# visualize confusion matrix with a heatmap\n",
    "class_names = [0,1]\n",
    "fig, ax = plt.subplots()\n",
    "tick_marks = np.arange(len(class_names))\n",
    "plt.xticks(tick_marks, class_names)\n",
    "plt.yticks(tick_marks, class_names)\n",
    "\n",
    "# heatmap\n",
    "sns.heatmap(pd.DataFrame(cnf_matrix), annot=True, cmap='coolwarm', fmt='g')\n",
    "ax.xaxis.set_label_position(\"top\")\n",
    "plt.tight_layout()\n",
    "plt.title(\"Confusion Matrix\", y=1.1)\n",
    "plt.xlabel(\"Predicted label\")\n",
    "plt.ylabel(\"Actual label\")"
   ]
  },
  {
   "cell_type": "markdown",
   "metadata": {},
   "source": [
    "### Classification Report"
   ]
  },
  {
   "cell_type": "code",
   "execution_count": 90,
   "metadata": {},
   "outputs": [
    {
     "name": "stdout",
     "output_type": "stream",
     "text": [
      "              precision    recall  f1-score   support\n",
      "\n",
      "    no churn       0.83      0.87      0.85      1037\n",
      "       churn       0.86      0.82      0.84      1033\n",
      "\n",
      "    accuracy                           0.85      2070\n",
      "   macro avg       0.85      0.85      0.85      2070\n",
      "weighted avg       0.85      0.85      0.85      2070\n",
      "\n"
     ]
    }
   ],
   "source": [
    "target_names = [\"no churn\", \"churn\"]\n",
    "print(classification_report(y_test, y_pred, target_names=target_names))"
   ]
  },
  {
   "cell_type": "markdown",
   "metadata": {},
   "source": [
    "When it comes to analyzing our model results, we want to focus on the false negatives - in this case the recall. \n",
    "The close the recall is to 1 then the better our model is at identifying true negatives.This is especially important in predicting customer churn because any false negatives is missed revenue"
   ]
  },
  {
   "cell_type": "markdown",
   "metadata": {},
   "source": [
    "### Area Under the Curve"
   ]
  },
  {
   "cell_type": "code",
   "execution_count": 91,
   "metadata": {},
   "outputs": [
    {
     "data": {
      "image/png": "[encoded data removed]",
      "text/plain": [
       "<Figure size 640x480 with 1 Axes>"
      ]
     },
     "metadata": {},
     "output_type": "display_data"
    }
   ],
   "source": [
    "y_pred_prob = log_model.predict_proba(X_test)[::,1]\n",
    "fpr, tpr, _ = roc_curve(y_test, y_pred_prob)\n",
    "auc = roc_auc_score(y_test, y_pred_prob)\n",
    "plt.plot(fpr,tpr,label=\"data 1, auc=\"+str(auc))\n",
    "plt.legend(loc=4)\n",
    "plt.show()"
   ]
  },
  {
   "cell_type": "markdown",
   "metadata": {},
   "source": [
    "## Random Forest Classifier"
   ]
  },
  {
   "cell_type": "markdown",
   "metadata": {},
   "source": [
    "### Fit model"
   ]
  },
  {
   "cell_type": "code",
   "execution_count": 92,
   "metadata": {},
   "outputs": [],
   "source": [
    "rf = RandomForestClassifier(random_state=23)\n",
    "rf.fit(X_train, y_train)\n",
    "y_pred = rf.predict(X_test)"
   ]
  },
  {
   "cell_type": "markdown",
   "metadata": {},
   "source": [
    "### Confusion Matrix"
   ]
  },
  {
   "cell_type": "code",
   "execution_count": 93,
   "metadata": {},
   "outputs": [
    {
     "name": "stdout",
     "output_type": "stream",
     "text": [
      "[[877 160]\n",
      " [179 854]]\n"
     ]
    }
   ],
   "source": [
    "rf_cnf_matrix = confusion_matrix(y_test,y_pred)\n",
    "print(rf_cnf_matrix)"
   ]
  },
  {
   "cell_type": "markdown",
   "metadata": {},
   "source": [
    "### Classification Report"
   ]
  },
  {
   "cell_type": "code",
   "execution_count": 94,
   "metadata": {},
   "outputs": [
    {
     "name": "stdout",
     "output_type": "stream",
     "text": [
      "              precision    recall  f1-score   support\n",
      "\n",
      "           0       0.83      0.85      0.84      1037\n",
      "           1       0.84      0.83      0.83      1033\n",
      "\n",
      "    accuracy                           0.84      2070\n",
      "   macro avg       0.84      0.84      0.84      2070\n",
      "weighted avg       0.84      0.84      0.84      2070\n",
      "\n"
     ]
    }
   ],
   "source": [
    "cr = classification_report(y_test, y_pred)\n",
    "print(cr)"
   ]
  },
  {
   "cell_type": "markdown",
   "metadata": {},
   "source": [
    "The base Random Forest model can predict customer churn very well but lacks the accuracy in predicting true positives as we can tell from the precision score. Let's apply some hyperparameter tuning to see if this can be improved without affecting the model's recall"
   ]
  },
  {
   "cell_type": "markdown",
   "metadata": {},
   "source": [
    "### Hyperparameter Tuning"
   ]
  },
  {
   "cell_type": "markdown",
   "metadata": {},
   "source": [
    "Key Parameters:\n",
    "* n_estimators: the amount of trees in our random forest\n",
    "* max_depth: max number of levels in the trees\n",
    "* min_samples_split: min number of samples required to split a node (helps prevent overfitting)"
   ]
  },
  {
   "cell_type": "code",
   "execution_count": 95,
   "metadata": {},
   "outputs": [
    {
     "name": "stdout",
     "output_type": "stream",
     "text": [
      "\n",
      "Best parameters found:\n",
      "{'bootstrap': True,\n",
      " 'max_depth': 20,\n",
      " 'max_features': 'sqrt',\n",
      " 'min_samples_leaf': 2,\n",
      " 'min_samples_split': 5,\n",
      " 'n_estimators': 500}\n",
      "\n",
      "Best cross validation score: 0.9297\n"
     ]
    }
   ],
   "source": [
    "param_grid = {\n",
    "    'n_estimators': [100, 300, 500, 800],  # Number of trees\n",
    "    'max_depth': [10, 20, None],  # Depth of trees\n",
    "    'min_samples_split': [2, 5, 10],  # Min samples for node split\n",
    "    'min_samples_leaf': [1, 2, 4],  # Min samples in leaf\n",
    "    'max_features': ['sqrt', 'log2'],  # Features per tree\n",
    "    'bootstrap': [True, False]  # Sampling method\n",
    "}\n",
    "\n",
    "rf = RandomForestClassifier(random_state=23)\n",
    "rf_random = RandomizedSearchCV(\n",
    "    rf, \n",
    "    param_grid, \n",
    "    cv=5, \n",
    "    scoring='roc_auc', \n",
    "    n_iter=50, \n",
    "    n_jobs=-1)\n",
    "\n",
    "rf_random.fit(X_train, y_train)\n",
    "\n",
    "print(\"\\nBest parameters found:\")\n",
    "pprint(rf_random.best_params_)\n",
    "print(f\"\\nBest cross validation score: {rf_random.best_score_:.4f}\")"
   ]
  },
  {
   "cell_type": "markdown",
   "metadata": {},
   "source": [
    "### Run Tuned Random Forest Model"
   ]
  },
  {
   "cell_type": "code",
   "execution_count": 96,
   "metadata": {},
   "outputs": [],
   "source": [
    "best_rf = rf_random.best_estimator_\n",
    "y_pred = best_rf.predict(X_test)"
   ]
  },
  {
   "cell_type": "markdown",
   "metadata": {},
   "source": [
    "### New Confusion Matrix"
   ]
  },
  {
   "cell_type": "code",
   "execution_count": 97,
   "metadata": {},
   "outputs": [
    {
     "data": {
      "text/plain": [
       "Text(50.722222222222214, 0.5, 'Actual label')"
      ]
     },
     "execution_count": 97,
     "metadata": {},
     "output_type": "execute_result"
    },
    {
     "data": {
      "image/png": "[encoded data removed]",
      "text/plain": [
       "<Figure size 640x480 with 2 Axes>"
      ]
     },
     "metadata": {},
     "output_type": "display_data"
    }
   ],
   "source": [
    "# confusion matrix\n",
    "conf_matrix = confusion_matrix(y_test, y_pred)\n",
    "\n",
    "# visualize confusion matrix with a heatmap\n",
    "class_names = [0,1]\n",
    "fig, ax = plt.subplots()\n",
    "tick_marks = np.arange(len(class_names))\n",
    "plt.xticks(tick_marks, class_names)\n",
    "plt.yticks(tick_marks, class_names)\n",
    "\n",
    "# heatmap\n",
    "sns.heatmap(pd.DataFrame(conf_matrix), annot=True, cmap='coolwarm', fmt='g')\n",
    "ax.xaxis.set_label_position(\"top\")\n",
    "plt.tight_layout()\n",
    "plt.title(\"Confusion Matrix\", y=1.1)\n",
    "plt.xlabel(\"Predicted label\")\n",
    "plt.ylabel(\"Actual label\")"
   ]
  },
  {
   "cell_type": "markdown",
   "metadata": {},
   "source": [
    "### New Classification Report"
   ]
  },
  {
   "cell_type": "code",
   "execution_count": 98,
   "metadata": {},
   "outputs": [
    {
     "name": "stdout",
     "output_type": "stream",
     "text": [
      "\n",
      "Classification Report:\n",
      "              precision    recall  f1-score   support\n",
      "\n",
      "           0       0.84      0.85      0.84      1037\n",
      "           1       0.85      0.84      0.84      1033\n",
      "\n",
      "    accuracy                           0.84      2070\n",
      "   macro avg       0.84      0.84      0.84      2070\n",
      "weighted avg       0.84      0.84      0.84      2070\n",
      "\n"
     ]
    }
   ],
   "source": [
    "print(\"\\nClassification Report:\")\n",
    "print(classification_report(y_test, y_pred))"
   ]
  },
  {
   "cell_type": "markdown",
   "metadata": {},
   "source": [
    "## Check for overfitting"
   ]
  },
  {
   "cell_type": "markdown",
   "metadata": {},
   "source": [
    "### Logistic Regression"
   ]
  },
  {
   "cell_type": "code",
   "execution_count": 99,
   "metadata": {},
   "outputs": [
    {
     "name": "stdout",
     "output_type": "stream",
     "text": [
      "Mean CV Accuracy: 0.855 (+/- 0.020)\n",
      "Train Accuracy: 0.8477893210920512\n",
      "Test Accuracy: 0.8458937198067633\n",
      "\n",
      "Classification Report (Train):\n",
      "               precision    recall  f1-score   support\n",
      "\n",
      "           0       0.84      0.86      0.85      4137\n",
      "           1       0.86      0.84      0.85      4141\n",
      "\n",
      "    accuracy                           0.85      8278\n",
      "   macro avg       0.85      0.85      0.85      8278\n",
      "weighted avg       0.85      0.85      0.85      8278\n",
      "\n",
      "\n",
      "Classification Report (Test):\n",
      "               precision    recall  f1-score   support\n",
      "\n",
      "           0       0.83      0.87      0.85      1037\n",
      "           1       0.86      0.82      0.84      1033\n",
      "\n",
      "    accuracy                           0.85      2070\n",
      "   macro avg       0.85      0.85      0.85      2070\n",
      "weighted avg       0.85      0.85      0.85      2070\n",
      "\n",
      "\n",
      "AUC-ROC Train: 0.933663243754114\n",
      "AUC-ROC Test: 0.9321288510960857\n"
     ]
    }
   ],
   "source": [
    "from sklearn.metrics import accuracy_score, classification_report, roc_auc_score\n",
    "\n",
    "# Predictions on training and test sets\n",
    "y_train_pred = log_model.predict(X_train)\n",
    "y_test_pred = log_model.predict(X_test)\n",
    "\n",
    "# AUC-ROC scores\n",
    "train_auc = roc_auc_score(y_train, log_model.predict_proba(X_train)[:, 1])\n",
    "test_auc = roc_auc_score(y_test, log_model.predict_proba(X_test)[:, 1])\n",
    "cv_scores = cross_val_score(best_rf, X_train, y_train, cv=5)\n",
    "\n",
    "print(f\"Mean CV Accuracy: {cv_scores.mean():.3f} (+/- {cv_scores.std() * 2:.3f})\")\n",
    "print(\"Train Accuracy:\", accuracy_score(y_train, y_train_pred))\n",
    "print(\"Test Accuracy:\", accuracy_score(y_test, y_test_pred))\n",
    "print(\"\\nClassification Report (Train):\\n\", classification_report(y_train, y_train_pred))\n",
    "print(\"\\nClassification Report (Test):\\n\", classification_report(y_test, y_test_pred))\n",
    "print(\"\\nAUC-ROC Train:\", train_auc)\n",
    "print(\"AUC-ROC Test:\", test_auc)"
   ]
  },
  {
   "cell_type": "markdown",
   "metadata": {},
   "source": [
    "No overfitting from the Logistic Regression. \n",
    "* Overall model accuracy stayed the same between training and testing.\n",
    "* Recall increased when the model was exposed to new data which indicates the model found good patterns in the training data and was able to learn those patterns instead of memorizing them\n",
    "* AUC-ROC value is close to 1 for both the train and test sets which indicates that the model can predict the right outcome around 92% of the time"
   ]
  },
  {
   "cell_type": "markdown",
   "metadata": {},
   "source": [
    "### Random Forest"
   ]
  },
  {
   "cell_type": "code",
   "execution_count": 100,
   "metadata": {},
   "outputs": [
    {
     "name": "stdout",
     "output_type": "stream",
     "text": [
      "Mean CV Accuracy: 0.855 (+/- 0.020)\n",
      "Train Accuracy: 0.937545300797294\n",
      "Test Accuracy: 0.8415458937198068\n",
      "\n",
      "Classification Report (Train):\n",
      "               precision    recall  f1-score   support\n",
      "\n",
      "           0       0.94      0.93      0.94      4137\n",
      "           1       0.93      0.94      0.94      4141\n",
      "\n",
      "    accuracy                           0.94      8278\n",
      "   macro avg       0.94      0.94      0.94      8278\n",
      "weighted avg       0.94      0.94      0.94      8278\n",
      "\n",
      "\n",
      "Classification Report (Test):\n",
      "               precision    recall  f1-score   support\n",
      "\n",
      "           0       0.84      0.85      0.84      1037\n",
      "           1       0.85      0.84      0.84      1033\n",
      "\n",
      "    accuracy                           0.84      2070\n",
      "   macro avg       0.84      0.84      0.84      2070\n",
      "weighted avg       0.84      0.84      0.84      2070\n",
      "\n",
      "\n",
      "AUC-ROC Train: 0.9891536068125995\n",
      "AUC-ROC Test: 0.9231568462530141\n"
     ]
    }
   ],
   "source": [
    "from sklearn.metrics import accuracy_score, classification_report, roc_auc_score\n",
    "\n",
    "# Predictions on training and test sets\n",
    "y_train_pred = best_rf.predict(X_train)\n",
    "y_test_pred = best_rf.predict(X_test)\n",
    "\n",
    "# AUC-ROC scores\n",
    "train_auc = roc_auc_score(y_train, best_rf.predict_proba(X_train)[:, 1])\n",
    "test_auc = roc_auc_score(y_test, best_rf.predict_proba(X_test)[:, 1])\n",
    "cv_scores = cross_val_score(best_rf, X_train, y_train, cv=5)\n",
    "\n",
    "print(f\"Mean CV Accuracy: {cv_scores.mean():.3f} (+/- {cv_scores.std() * 2:.3f})\")\n",
    "print(\"Train Accuracy:\", accuracy_score(y_train, y_train_pred))\n",
    "print(\"Test Accuracy:\", accuracy_score(y_test, y_test_pred))\n",
    "print(\"\\nClassification Report (Train):\\n\", classification_report(y_train, y_train_pred))\n",
    "print(\"\\nClassification Report (Test):\\n\", classification_report(y_test, y_test_pred))\n",
    "print(\"\\nAUC-ROC Train:\", train_auc)\n",
    "print(\"AUC-ROC Test:\", test_auc)"
   ]
  },
  {
   "cell_type": "markdown",
   "metadata": {},
   "source": [
    "We can see clear overfit for the Random Forest\n",
    "* Training accuracy is significantly higher than the testing accuracy which means the model just memorized the training data, thus failing to predict the correct outcomes when met with new data\n",
    "* Though the AUC-ROC values are high, the testing value is much lower than the training value, again indicating overfit"
   ]
  },
  {
   "cell_type": "markdown",
   "metadata": {},
   "source": [
    "# Final Thoughts"
   ]
  },
  {
   "cell_type": "markdown",
   "metadata": {},
   "source": [
    "Based on the classification reports and the AUC-ROC values, we were able to identify that the Logisitc Regression is the better model for prediciting customer churn in this dataset. The Random Forest performed poorly as it suffered from overfitting. This could be due to the fact that there are linear relationships between the features and the target variable which would make the simpler logistic regression outperfom the random forest since random forests thrive off of complex, non-linear data. Let's confirm if our features and target variable have a linear relationship"
   ]
  },
  {
   "cell_type": "markdown",
   "metadata": {},
   "source": [
    "### Verify Feature Relationship with Target Variable"
   ]
  },
  {
   "cell_type": "markdown",
   "metadata": {},
   "source": [
    "By checking the coefficients of our features, we can identify what features have a linear relationship with the target variable. Since we implemented SMOTE oversampling on the training set, we need to make sure that the coefficients remained intact after oversampling to ensure we didn't alter any fundamental relationships in the original data."
   ]
  },
  {
   "cell_type": "code",
   "execution_count": 40,
   "metadata": {},
   "outputs": [
    {
     "name": "stdout",
     "output_type": "stream",
     "text": [
      "\n",
      "Coefficients BEFORE oversampling the training data:\n",
      "                             Feature  Coefficient\n",
      "15           Contract_month_to_month     0.353002\n",
      "9                   PaperlessBilling     0.280737\n",
      "29                 count_of_services     0.112978\n",
      "28       TenureCategory_new_customer     0.112814\n",
      "27    TenureCategory_3_plus_customer     0.090021\n",
      "10                    MonthlyCharges     0.062210\n",
      "11                      TotalCharges     0.000744\n",
      "22                 PackageTier_basic    -0.052838\n",
      "0                             tenure    -0.070169\n",
      "12               InternetService_dsl    -0.212068\n",
      "14                InternetService_no    -0.351191\n",
      "24              PackageTier_mid_tier    -0.375835\n",
      "2                      MultipleLines    -0.434075\n",
      "23              PackageTier_high_end    -0.440848\n",
      "13        InternetService_fiberoptic    -0.604462\n",
      "8                    StreamingMovies    -0.637827\n",
      "7                        StreamingTV    -0.671391\n",
      "26  TenureCategory_1_to_3yr_customer    -0.760432\n",
      "20     PaymentMethod_electroniccheck    -0.939421\n",
      "16                  Contract_oneyear    -1.050628\n",
      "25               PackageTier_premium    -1.059458\n",
      "5                   DeviceProtection    -1.078431\n",
      "21         PaymentMethod_mailedcheck    -1.099614\n",
      "1                       PhoneService    -1.188339\n",
      "4                       OnlineBackup    -1.239651\n",
      "18        PaymentMethod_banktransfer    -1.280735\n",
      "17                  Contract_twoyear    -1.323105\n",
      "19          PaymentMethod_creditcard    -1.345085\n",
      "6                        TechSupport    -1.487373\n",
      "3                     OnlineSecurity    -1.676971\n",
      "\n",
      "Coefficients AFTER oversampling the training data:\n",
      "                             Feature  Coefficient\n",
      "15           Contract_month_to_month     0.353002\n",
      "9                   PaperlessBilling     0.280737\n",
      "29                 count_of_services     0.112978\n",
      "28       TenureCategory_new_customer     0.112814\n",
      "27    TenureCategory_3_plus_customer     0.090021\n",
      "10                    MonthlyCharges     0.062210\n",
      "11                      TotalCharges     0.000744\n",
      "22                 PackageTier_basic    -0.052838\n",
      "0                             tenure    -0.070169\n",
      "12               InternetService_dsl    -0.212068\n",
      "14                InternetService_no    -0.351191\n",
      "24              PackageTier_mid_tier    -0.375835\n",
      "2                      MultipleLines    -0.434075\n",
      "23              PackageTier_high_end    -0.440848\n",
      "13        InternetService_fiberoptic    -0.604462\n",
      "8                    StreamingMovies    -0.637827\n",
      "7                        StreamingTV    -0.671391\n",
      "26  TenureCategory_1_to_3yr_customer    -0.760432\n",
      "20     PaymentMethod_electroniccheck    -0.939421\n",
      "16                  Contract_oneyear    -1.050628\n",
      "25               PackageTier_premium    -1.059458\n",
      "5                   DeviceProtection    -1.078431\n",
      "21         PaymentMethod_mailedcheck    -1.099614\n",
      "1                       PhoneService    -1.188339\n",
      "4                       OnlineBackup    -1.239651\n",
      "18        PaymentMethod_banktransfer    -1.280735\n",
      "17                  Contract_twoyear    -1.323105\n",
      "19          PaymentMethod_creditcard    -1.345085\n",
      "6                        TechSupport    -1.487373\n",
      "3                     OnlineSecurity    -1.676971\n"
     ]
    }
   ],
   "source": [
    "coefficients = pd.DataFrame({\"Feature\": X.columns, \"Coefficient\": log_model.coef_[0]})\n",
    "coefficients = coefficients.sort_values(by=\"Coefficient\", ascending=False)\n",
    "print(\"\\nCoefficients BEFORE oversampling the training data:\")\n",
    "print(coefficients)\n",
    "\n",
    "coefficient_after_SMOTE = pd.DataFrame({\"Feature\": X_resampled.columns, \"Coefficient\": log_model.coef_[0]})\n",
    "coefficient_after_SMOTE = coefficient_after_SMOTE.sort_values(by=\"Coefficient\", ascending=False)\n",
    "print(\"\\nCoefficients AFTER oversampling the training data:\")\n",
    "print(coefficient_after_SMOTE)"
   ]
  },
  {
   "cell_type": "markdown",
   "metadata": {},
   "source": [
    "Coefficients match up which means we successfully didn't alter any relationships with the oversampling technique. We can also see from the high negative or positive coefficients that a decent amount of our features have linear relationships with the target variable"
   ]
  },
  {
   "cell_type": "markdown",
   "metadata": {},
   "source": [
    "Now that we see that select features have a linear relationship with the target variable, it makes sense why the logistic regression would perform better than the Random Forest."
   ]
  }
 ],
 "metadata": {
  "kernelspec": {
   "display_name": "venv (3.12.4)",
   "language": "python",
   "name": "python3"
  },
  "language_info": {
   "codemirror_mode": {
    "name": "ipython",
    "version": 3
   },
   "file_extension": ".py",
   "mimetype": "text/x-python",
   "name": "python",
   "nbconvert_exporter": "python",
   "pygments_lexer": "ipython3",
   "version": "3.12.4"
  }
 },
 "nbformat": 4,
 "nbformat_minor": 2
}
